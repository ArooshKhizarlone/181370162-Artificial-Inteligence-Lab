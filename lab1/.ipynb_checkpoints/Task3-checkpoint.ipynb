{
 "cells": [
  {
   "cell_type": "code",
   "execution_count": null,
   "id": "bf38d4c4",
   "metadata": {},
   "outputs": [],
   "source": []
  },
  {
   "cell_type": "code",
   "execution_count": null,
   "id": "3e1e4eff",
   "metadata": {},
   "outputs": [],
   "source": []
  },
  {
   "cell_type": "markdown",
   "id": "847566ff",
   "metadata": {},
   "source": [
    "# 7.3 Ingredient Adjuster\n",
    "A cookie recipe calls for the following ingredients: * 1.5 cups of sugar * 1 cup of butter * 2.75 cups\n",
    "of flour\n",
    "\n",
    "9\n",
    "\n",
    "The recipe produces 48 cookies with this amount of the ingredients. Write a program that asks\n",
    "the user how many cookies he or she wants to make, and then displays the number of cups of each\n",
    "ingredient needed for the specified number of cookies.\n"
   ]
  },
  {
   "cell_type": "code",
   "execution_count": 17,
   "id": "c4ced9c4",
   "metadata": {},
   "outputs": [
    {
     "name": "stdout",
     "output_type": "stream",
     "text": [
      "Enter the amount of cookies = 64000\n"
     ]
    }
   ],
   "source": [
    " how_many_cookies = float(input(\"Enter the amount of cookies = \"))\n"
   ]
  },
  {
   "cell_type": "code",
   "execution_count": 10,
   "id": "4bb72189",
   "metadata": {},
   "outputs": [
    {
     "name": "stdout",
     "output_type": "stream",
     "text": [
      "144.0 96.0 264.0\n"
     ]
    }
   ],
   "source": [
    "cup_of_sugar = 1.5\n",
    "cup_of_butter = 1\n",
    "cup_of_flour = 2.75\n",
    "\n",
    "# show the total cups \n",
    "\n",
    "sugar = cup_of_sugar * how_many_cookies\n",
    "butter = cup_of_butter * how_many_cookies\n",
    "flour = cup_of_flour * how_many_cookies\n",
    "print(sugar,butter,flour)"
   ]
  },
  {
   "cell_type": "code",
   "execution_count": 18,
   "id": "9fc293f6",
   "metadata": {},
   "outputs": [
    {
     "name": "stdout",
     "output_type": "stream",
     "text": [
      "0.00225 0.0015 0.004125\n"
     ]
    }
   ],
   "source": [
    "cookies = 64000\n",
    "print(sugar/cookies , butter/cookies , flour/cookies)"
   ]
  },
  {
   "cell_type": "code",
   "execution_count": null,
   "id": "241bbedc",
   "metadata": {},
   "outputs": [],
   "source": []
  },
  {
   "cell_type": "code",
   "execution_count": null,
   "id": "2d36007a",
   "metadata": {},
   "outputs": [],
   "source": []
  }
 ],
 "metadata": {
  "kernelspec": {
   "display_name": "Python 3",
   "language": "python",
   "name": "python3"
  },
  "language_info": {
   "codemirror_mode": {
    "name": "ipython",
    "version": 3
   },
   "file_extension": ".py",
   "mimetype": "text/x-python",
   "name": "python",
   "nbconvert_exporter": "python",
   "pygments_lexer": "ipython3",
   "version": "3.8.8"
  }
 },
 "nbformat": 4,
 "nbformat_minor": 5
}
