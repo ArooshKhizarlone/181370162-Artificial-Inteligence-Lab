{
 "cells": [
  {
   "cell_type": "markdown",
   "id": "ed2c3118",
   "metadata": {},
   "source": [
    "# 7.1 Sales Tax\n",
    "Write a program that will ask the user to enter the amount of a purchase. The program should then\n",
    "compute the state and county sales tax. Assume the state sales tax is 5 percent and the county\n",
    "sales tax is 2.5 percent. The program should display the following: * The amount of the purchase\n",
    "* The state sales tax * The county sales tax * The total sales tax * and the total of the sale (which\n",
    "is the sum of the amount of purchase plus the total sales tax).\n",
    "\n",
    "\n"
   ]
  },
  {
   "cell_type": "code",
   "execution_count": 18,
   "id": "d9c157da",
   "metadata": {},
   "outputs": [
    {
     "name": "stdout",
     "output_type": "stream",
     "text": [
      "Enter the amount of purchase = 1000\n"
     ]
    }
   ],
   "source": [
    "name = int (input(\"Enter the amount of purchase = \"))\n"
   ]
  },
  {
   "cell_type": "code",
   "execution_count": 19,
   "id": "c6f5dc5e",
   "metadata": {},
   "outputs": [
    {
     "name": "stdout",
     "output_type": "stream",
     "text": [
      "50.0\n"
     ]
    }
   ],
   "source": [
    "sales_tax = name * 5 /100\n",
    "print(sales_tax)"
   ]
  },
  {
   "cell_type": "code",
   "execution_count": 20,
   "id": "797fc600",
   "metadata": {},
   "outputs": [
    {
     "name": "stdout",
     "output_type": "stream",
     "text": [
      "25.0\n"
     ]
    }
   ],
   "source": [
    "country_sales_tax = name *2.5 / 100\n",
    "print(country_sales_tax)"
   ]
  },
  {
   "cell_type": "code",
   "execution_count": 21,
   "id": "802a5f43",
   "metadata": {},
   "outputs": [
    {
     "name": "stdout",
     "output_type": "stream",
     "text": [
      "1250000.0\n"
     ]
    }
   ],
   "source": [
    "total_sales_tax = name * "
   ]
  },
  {
   "cell_type": "code",
   "execution_count": null,
   "id": "383b621e",
   "metadata": {},
   "outputs": [],
   "source": []
  }
 ],
 "metadata": {
  "kernelspec": {
   "display_name": "Python 3",
   "language": "python",
   "name": "python3"
  },
  "language_info": {
   "codemirror_mode": {
    "name": "ipython",
    "version": 3
   },
   "file_extension": ".py",
   "mimetype": "text/x-python",
   "name": "python",
   "nbconvert_exporter": "python",
   "pygments_lexer": "ipython3",
   "version": "3.8.8"
  }
 },
 "nbformat": 4,
 "nbformat_minor": 5
}
