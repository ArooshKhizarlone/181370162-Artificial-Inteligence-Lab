{
 "cells": [
  {
   "cell_type": "markdown",
   "id": "f630f3ba",
   "metadata": {},
   "source": [
    "# Write a program that asks the user for the number of males and the number of females registered\n",
    "in a class. The program should display the percentage of males and females in the class.\n",
    "Hint: Suppose there are 8 males and 12 females in a class. There are 20 students in the class. The\n",
    "percentage of males can be calculated as 8 4 20 5 0.4, or 40%. The percentage of females can be\n",
    "calculated as 12 4 20 5 0.6, or 60%."
   ]
  },
  {
   "cell_type": "code",
   "execution_count": 13,
   "id": "23766628",
   "metadata": {},
   "outputs": [
    {
     "name": "stdout",
     "output_type": "stream",
     "text": [
      "enter the number = 8\n",
      "enter the number = 12\n",
      "20\n"
     ]
    }
   ],
   "source": [
    "Males = int(input(\"enter the number = \"))\n",
    "Females = int(input(\"enter the number = \"))\n",
    "Total_std = Males + Females\n",
    "print(Total_std)"
   ]
  },
  {
   "cell_type": "code",
   "execution_count": 12,
   "id": "d86f2158",
   "metadata": {},
   "outputs": [
    {
     "name": "stdout",
     "output_type": "stream",
     "text": [
      "0.4\n",
      "0.6\n"
     ]
    }
   ],
   "source": [
    "Percet_of_reg_male = Males / Total_std\n",
    "print(Percet_of_reg_male)\n",
    "Percet_of_reg_female = Females / Total_std\n",
    "print(Percet_of_reg_female)"
   ]
  },
  {
   "cell_type": "code",
   "execution_count": null,
   "id": "f7e53548",
   "metadata": {},
   "outputs": [],
   "source": []
  }
 ],
 "metadata": {
  "kernelspec": {
   "display_name": "Python 3",
   "language": "python",
   "name": "python3"
  },
  "language_info": {
   "codemirror_mode": {
    "name": "ipython",
    "version": 3
   },
   "file_extension": ".py",
   "mimetype": "text/x-python",
   "name": "python",
   "nbconvert_exporter": "python",
   "pygments_lexer": "ipython3",
   "version": "3.8.8"
  }
 },
 "nbformat": 4,
 "nbformat_minor": 5
}
