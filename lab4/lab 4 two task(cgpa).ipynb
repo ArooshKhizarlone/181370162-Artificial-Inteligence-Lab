{
 "cells": [
  {
   "cell_type": "markdown",
   "metadata": {
    "id": "cdouo7LdjVPE"
   },
   "source": [
    "# Collections\n",
    "\n",
    "Earlier in our labs we looked at some Python built-in types such as `string`, `int`, `float`, and `bool`. These types store single value. There are some other built-in types in Python which are collectively known as __collections__. This is because they represent a collection of other types such as types of strings, or numbers. \n",
    "\n",
    "A _collection_ is a single object representing a group of objects. Collections may also be referred to as _containers_ as they contain other objects. These collection types support various types of data structures (such as lists, tuples, dictionaries, sets, and maps) and ways to process elements within those structures. \n",
    "\n",
    "## Python Collection Types\n",
    "There are four classes in Python that provide container like behavior, these are:\n",
    "\n",
    "- __Tuples__: A Tuple represents a collection of objects that are ordered and immutable (cannot be modified). Tuple allows duplicate members and are indexed.\n",
    "- __Lists__: Lists hold a collection of objects that are ordered and mutable (changeable), they are indexed and allow duplicate members. \n",
    "- __Sets__: Sets are a collection that is unordered and unindexed. They are mutable (changeable) but do not allow duplicate values to be held. \n",
    "- __Dictionary__: A dictionary is an unordered collection that is indexed by a _key_ which references to a _value_. The value is returned when the _key_ is provided. No duplicate keys are allowed. However, duplicate values are allowed. Dictionaries are mutable containers. "
   ]
  },
  {
   "cell_type": "markdown",
   "metadata": {
    "id": "RKOfCTMbjVPF"
   },
   "source": [
    "# Lists\n",
    "Lists are _positionally ordered collections of arbitrarily typed objects, and they have no fixed size_. They are also mutable—unlike strings, lists can be modified in place by assignment to offsets as well as a variety of list method calls.\n"
   ]
  },
  {
   "cell_type": "markdown",
   "metadata": {
    "id": "BSyH_VCnjVPG"
   },
   "source": [
    "## Creating Lists\n",
    "Lists are created using square brackets positioned around the elements of list that are separated using a comma. For example:"
   ]
  },
  {
   "cell_type": "code",
   "execution_count": null,
   "metadata": {
    "id": "PH_woVB9jVPH"
   },
   "outputs": [],
   "source": [
    "# A list of numbers\n",
    "even_numbers = [0,2,4,6,8,10,12]"
   ]
  },
  {
   "cell_type": "code",
   "execution_count": null,
   "metadata": {
    "id": "S-7zMNLdjVPI",
    "outputId": "e942b4da-0057-4986-afaa-29de0195951c"
   },
   "outputs": [
    {
     "name": "stdout",
     "output_type": "stream",
     "text": [
      "[0, 2, 4, 6, 8, 10, 12]\n"
     ]
    }
   ],
   "source": [
    "# Print the list\n",
    "print(even_numbers)"
   ]
  },
  {
   "cell_type": "code",
   "execution_count": null,
   "metadata": {
    "id": "yFt1fs4kjVPJ",
    "outputId": "84baab42-6e77-4aca-bec1-7b32b0b64f0b"
   },
   "outputs": [
    {
     "name": "stdout",
     "output_type": "stream",
     "text": [
      "<class 'list'>\n"
     ]
    }
   ],
   "source": [
    "# Check the data type\n",
    "print(type(even_numbers))"
   ]
  },
  {
   "cell_type": "code",
   "execution_count": null,
   "metadata": {
    "id": "X7QUY7aIjVPK"
   },
   "outputs": [],
   "source": [
    "# Create a Hetrogenous list\n",
    "# A list of three different-type objects\n",
    "L = [123, 'spam', 1.23]    "
   ]
  },
  {
   "cell_type": "markdown",
   "metadata": {
    "id": "mcQN2XBujVPL"
   },
   "source": [
    "## Accessing Elements of List (Indexing)\n",
    "You can access elements from a list using an index (within square bracket). The index returns the object at that position. For example:"
   ]
  },
  {
   "cell_type": "code",
   "execution_count": null,
   "metadata": {
    "id": "hxawc1XNjVPM",
    "outputId": "83fea232-45f6-44e7-a510-2e9da123d98e"
   },
   "outputs": [
    {
     "data": {
      "text/plain": [
       "123"
      ]
     },
     "execution_count": 14,
     "metadata": {
      "tags": []
     },
     "output_type": "execute_result"
    }
   ],
   "source": [
    "L[0]"
   ]
  },
  {
   "cell_type": "code",
   "execution_count": null,
   "metadata": {
    "id": "YKUPlWJvjVPN",
    "outputId": "ff173f04-c65c-4983-a89b-85d051b6142e",
    "scrolled": false
   },
   "outputs": [
    {
     "name": "stdout",
     "output_type": "stream",
     "text": [
      "<class 'str'>\n"
     ]
    }
   ],
   "source": [
    "print(type(L[1]))"
   ]
  },
  {
   "cell_type": "markdown",
   "metadata": {
    "id": "o8mqCXX2jVPO"
   },
   "source": [
    "### Negative Indexing\n",
    "Negative indexing can also be applied on lists. "
   ]
  },
  {
   "cell_type": "code",
   "execution_count": null,
   "metadata": {
    "id": "YhDupQCdjVPO",
    "outputId": "ac78b4a2-f130-498c-83c3-cf9258cbde5c",
    "scrolled": true
   },
   "outputs": [
    {
     "data": {
      "text/plain": [
       "1.23"
      ]
     },
     "execution_count": 16,
     "metadata": {
      "tags": []
     },
     "output_type": "execute_result"
    }
   ],
   "source": [
    "L[-1]"
   ]
  },
  {
   "cell_type": "code",
   "execution_count": null,
   "metadata": {
    "id": "knTlg1S6jVPP",
    "outputId": "ef30196b-5c02-486d-beb6-fb26c4de0cd2",
    "scrolled": false
   },
   "outputs": [
    {
     "ename": "IndexError",
     "evalue": "list index out of range",
     "output_type": "error",
     "traceback": [
      "\u001b[1;31m---------------------------------------------------------------------------\u001b[0m",
      "\u001b[1;31mIndexError\u001b[0m                                Traceback (most recent call last)",
      "\u001b[1;32m<ipython-input-17-2ab3c632dcf8>\u001b[0m in \u001b[0;36m<module>\u001b[1;34m\u001b[0m\n\u001b[0;32m      1\u001b[0m \u001b[1;31m# Index out of range\u001b[0m\u001b[1;33m\u001b[0m\u001b[1;33m\u001b[0m\u001b[1;33m\u001b[0m\u001b[0m\n\u001b[1;32m----> 2\u001b[1;33m \u001b[0mL\u001b[0m\u001b[1;33m[\u001b[0m\u001b[1;36m5\u001b[0m\u001b[1;33m]\u001b[0m\u001b[1;33m\u001b[0m\u001b[1;33m\u001b[0m\u001b[0m\n\u001b[0m",
      "\u001b[1;31mIndexError\u001b[0m: list index out of range"
     ]
    }
   ],
   "source": [
    "# Index out of range\n",
    "L[5]"
   ]
  },
  {
   "cell_type": "markdown",
   "metadata": {
    "id": "boHlVuM8jVPP"
   },
   "source": [
    "## Exercise \n",
    "\n",
    "Create a list named `cgpa` that contains the cgpa of 6 students"
   ]
  },
  {
   "cell_type": "code",
   "execution_count": 2,
   "metadata": {
    "id": "gKUcFQFHjVPQ"
   },
   "outputs": [],
   "source": [
    "my_list = [3.5 , 3 , 4 , 2 , 2.9 , 3.8]"
   ]
  },
  {
   "cell_type": "markdown",
   "metadata": {
    "id": "LJ6aoeFyjVPQ"
   },
   "source": [
    "Print out the list `cgpa`"
   ]
  },
  {
   "cell_type": "code",
   "execution_count": 3,
   "metadata": {
    "id": "MM6XVexljVPR"
   },
   "outputs": [
    {
     "name": "stdout",
     "output_type": "stream",
     "text": [
      "[3.5, 3, 4, 2, 2.9, 3.8]\n"
     ]
    }
   ],
   "source": [
    "print(my_list)"
   ]
  },
  {
   "cell_type": "markdown",
   "metadata": {
    "id": "3b9P0NP5jVPR"
   },
   "source": [
    "Print the `cgpa` of _third_ student"
   ]
  },
  {
   "cell_type": "code",
   "execution_count": 4,
   "metadata": {
    "id": "CBJ_tCzWjVPR"
   },
   "outputs": [
    {
     "data": {
      "text/plain": [
       "4"
      ]
     },
     "execution_count": 4,
     "metadata": {},
     "output_type": "execute_result"
    }
   ],
   "source": [
    "my_list[2]"
   ]
  },
  {
   "cell_type": "markdown",
   "metadata": {
    "id": "nm4a8nIKjVPS"
   },
   "source": [
    "Use a `for` loop to iterate over list items of `cgpa`"
   ]
  },
  {
   "cell_type": "code",
   "execution_count": 5,
   "metadata": {
    "id": "fKLUG15RjVPS"
   },
   "outputs": [
    {
     "name": "stdout",
     "output_type": "stream",
     "text": [
      "3.5\n",
      "3\n",
      "4\n",
      "2\n",
      "2.9\n",
      "3.8\n"
     ]
    }
   ],
   "source": [
    "for element in my_list:\n",
    "    print(element)"
   ]
  },
  {
   "cell_type": "markdown",
   "metadata": {
    "id": "QP-PdenOjVPS"
   },
   "source": [
    "## Multi-dimensional Lists\n",
    "\n",
    "One nice feature of Python’s core data types is that they support arbitrary nesting—we\n",
    "can nest them in any combination, and as deeply as we like. For example, we can have\n",
    "a list that contains a dictionary, which contains another list, and so on. One immediate\n",
    "application of this feature is to represent matrixes, or “multidimensional arrays” in\n",
    "Python.\n",
    "Lists can contain lists also. For example, you are recording the age of your friends along with their names."
   ]
  },
  {
   "cell_type": "code",
   "execution_count": null,
   "metadata": {
    "id": "kqk9aH2MjVPT"
   },
   "outputs": [],
   "source": [
    "# One Dimensional List\n",
    "friends_age_1d = [\"Zeeshan\",26, \"Qasim\", 27, \"Huzaifa\", 25, \"Abdul Wahab\", 19, \"Sajawal\",27, \"Mudassar\",28]"
   ]
  },
  {
   "cell_type": "markdown",
   "metadata": {
    "id": "Lz76MHrWjVPT"
   },
   "source": [
    "Although it is created but it is a bit difficult to understand. We can transform it into list of lists. "
   ]
  },
  {
   "cell_type": "code",
   "execution_count": null,
   "metadata": {
    "id": "0GpF_DL1jVPU",
    "outputId": "5ca5aff7-34d2-4270-96e0-25411cd8265b"
   },
   "outputs": [
    {
     "data": {
      "text/plain": [
       "25"
      ]
     },
     "execution_count": 22,
     "metadata": {
      "tags": []
     },
     "output_type": "execute_result"
    }
   ],
   "source": [
    "# Age of Huzaifa\n",
    "friends_age_1d[5]"
   ]
  },
  {
   "cell_type": "code",
   "execution_count": null,
   "metadata": {
    "id": "cJ1HDIxqjVPU"
   },
   "outputs": [],
   "source": [
    "# Multi-dimensional list\n",
    "friends_age_2d = [[\"Zeeshan\",26],\n",
    "                  [\"Qasim\", 27],\n",
    "                  [\"Huzaifa\", 25],\n",
    "                  [\"Abdul Wahab\", 19],\n",
    "                  [\"Sajawal\",27],\n",
    "                  [\"Mudassar\",28]\n",
    "                 ]"
   ]
  },
  {
   "cell_type": "code",
   "execution_count": null,
   "metadata": {
    "id": "Cszt0kM8jVPV",
    "outputId": "940552bb-47db-43cf-9fc5-5381925c5be8"
   },
   "outputs": [
    {
     "data": {
      "text/plain": [
       "['Sajawal', 27]"
      ]
     },
     "execution_count": 23,
     "metadata": {
      "tags": []
     },
     "output_type": "execute_result"
    }
   ],
   "source": [
    "# Fetch the element at index 3\n",
    "friends_age_2d[3]"
   ]
  },
  {
   "cell_type": "code",
   "execution_count": null,
   "metadata": {
    "id": "wMkOKYA9jVPV",
    "outputId": "0172c86e-e5bb-49e0-f86b-1c8d6cb97f39"
   },
   "outputs": [
    {
     "data": {
      "text/plain": [
       "27"
      ]
     },
     "execution_count": 24,
     "metadata": {
      "tags": []
     },
     "output_type": "execute_result"
    }
   ],
   "source": [
    "# Fetch the age of sajawal\n",
    "friends_age_2d[3][1]"
   ]
  },
  {
   "cell_type": "code",
   "execution_count": null,
   "metadata": {
    "id": "0hlYGOyNjVPW",
    "outputId": "7c0fe049-a1aa-41ae-e48b-bac0cd15656d"
   },
   "outputs": [
    {
     "name": "stdout",
     "output_type": "stream",
     "text": [
      "<class 'list'>\n",
      "<class 'list'>\n",
      "<class 'list'>\n",
      "<class 'list'>\n",
      "<class 'list'>\n"
     ]
    }
   ],
   "source": [
    "# Print the types\n",
    "for friend in friends_age_2d:\n",
    "    print(type(friend))\n"
   ]
  },
  {
   "cell_type": "code",
   "execution_count": null,
   "metadata": {
    "id": "kjaEgHEajVPX",
    "outputId": "71d6909e-7ecc-41f2-bde9-c6f3965a338b"
   },
   "outputs": [
    {
     "name": "stdout",
     "output_type": "stream",
     "text": [
      "<class 'str'>\n",
      "<class 'int'>\n",
      "<class 'str'>\n",
      "<class 'int'>\n",
      "<class 'str'>\n",
      "<class 'int'>\n",
      "<class 'str'>\n",
      "<class 'int'>\n",
      "<class 'str'>\n",
      "<class 'int'>\n"
     ]
    }
   ],
   "source": [
    "# Print the types of each element in nested list\n",
    "for friend in friends_age_2d:\n",
    "    for f in friend:\n",
    "        print(type(f))"
   ]
  },
  {
   "cell_type": "code",
   "execution_count": null,
   "metadata": {
    "id": "a1JPp9ROjVPX"
   },
   "outputs": [],
   "source": [
    "# A matrix\n",
    "matrix = [\n",
    "           [1,0,0],\n",
    "           [0,1,0],\n",
    "           [0,0,1]\n",
    "          ]"
   ]
  },
  {
   "cell_type": "code",
   "execution_count": null,
   "metadata": {
    "id": "0Wm6RSqHjVPY"
   },
   "outputs": [],
   "source": [
    "# Higher Dimension list\n",
    "# A list representing each student's id, name, and tasks list he/she completed\n",
    "lab1_stats = [\n",
    "    [1,\"Usman\",[\"T1\",\"T2\", \"T3\"]],\n",
    "    [2, \"Asad\", [\"T1\", \"T2\", \"T4\", \"T5\"]],\n",
    "    [3, \"Faraz\", [\"T1\", \"T2\"]]\n",
    "]"
   ]
  },
  {
   "cell_type": "code",
   "execution_count": null,
   "metadata": {
    "id": "VHG5t4pzjVPY",
    "outputId": "a306f219-f0e6-4a1b-a655-1ce839f78d0b"
   },
   "outputs": [
    {
     "data": {
      "text/plain": [
       "['T1', 'T2', 'T3']"
      ]
     },
     "execution_count": 44,
     "metadata": {
      "tags": []
     },
     "output_type": "execute_result"
    }
   ],
   "source": [
    "# Access the tasks of student at index 0\n",
    "lab1_stats[0][2]"
   ]
  },
  {
   "cell_type": "code",
   "execution_count": null,
   "metadata": {
    "id": "j_ohj5b0jVPZ",
    "outputId": "759e16c8-55d9-4b0b-b757-e407977a1a14"
   },
   "outputs": [
    {
     "data": {
      "text/plain": [
       "4"
      ]
     },
     "execution_count": 45,
     "metadata": {
      "tags": []
     },
     "output_type": "execute_result"
    }
   ],
   "source": [
    "# How many tasks were completed by student at index 1\n",
    "len(lab1_stats[1][2])"
   ]
  },
  {
   "cell_type": "code",
   "execution_count": null,
   "metadata": {
    "id": "xjYDop2vjVPZ",
    "outputId": "2b66cfe6-1874-4b3c-8435-84a72613821b",
    "scrolled": true
   },
   "outputs": [
    {
     "data": {
      "text/plain": [
       "'T2'"
      ]
     },
     "execution_count": 46,
     "metadata": {
      "tags": []
     },
     "output_type": "execute_result"
    }
   ],
   "source": [
    "# What was the last task performed by student at index 2\n",
    "lab1_stats[2][2][len(lab1_stats[2][2])-1]"
   ]
  },
  {
   "cell_type": "code",
   "execution_count": null,
   "metadata": {
    "id": "sg_QkrfAjVPa",
    "outputId": "1d815b97-8539-4809-fbe1-18555ace7e6f",
    "scrolled": true
   },
   "outputs": [
    {
     "name": "stdout",
     "output_type": "stream",
     "text": [
      "ID: 1\n",
      "Name: Usman\n",
      "Tasks Performed:  T1,T2,T3,\n",
      "ID: 2\n",
      "Name: Asad\n",
      "Tasks Performed:  T1,T2,T4,T5,\n",
      "ID: 3\n",
      "Name: Faraz\n",
      "Tasks Performed:  T1,T2,\n"
     ]
    }
   ],
   "source": [
    "# Print each student id, name, and tasks performed\n",
    "for students in lab1_stats:\n",
    "    print(\"ID: {}\".format(students[0]))\n",
    "    print(\"Name: {}\".format(students[1]))\n",
    "    tasks = students[2]\n",
    "    print(\"Tasks Performed: \", end =\" \")\n",
    "    for task in tasks:\n",
    "        print(task, end = \",\")\n",
    "    print()    "
   ]
  },
  {
   "cell_type": "markdown",
   "metadata": {
    "id": "e_6VhTDijVPa"
   },
   "source": [
    "## Exercise"
   ]
  },
  {
   "cell_type": "markdown",
   "metadata": {
    "id": "3HgmJthqjVPb"
   },
   "source": [
    "In the previous exercise, you have created a list `cgpa` that contains cgpa of 6 students. \n",
    "\n",
    "Now, first add name of each student in the list. For example,\n",
    "\n",
    "cgpa = [\"name\",3.3,\"name2\",2.22...]"
   ]
  },
  {
   "cell_type": "code",
   "execution_count": 8,
   "metadata": {
    "colab": {
     "base_uri": "https://localhost:8080/"
    },
    "id": "NTqsmr9yjVPb",
    "outputId": "6f5fac16-ded8-4778-f243-45d79c77d100"
   },
   "outputs": [
    {
     "name": "stdout",
     "output_type": "stream",
     "text": [
      "['Basit', 3.5, 'Daniyal', 3, 'Taha', 4, 'Arqam', 2, 'Khizar', 2.9, 'Aroosh', 3.8]\n"
     ]
    }
   ],
   "source": [
    "cgpa = [\"Basit\",3.5,\"Daniyal\",3,\"Taha\",4,\"Arqam\",2,\"Khizar\",2.9,\"Aroosh\",3.8]\n",
    "print(cgpa)\n"
   ]
  },
  {
   "cell_type": "markdown",
   "metadata": {
    "id": "W4oPyjG1jVPb"
   },
   "source": [
    "Now, make a 2-dimensional list `students_cgpa`. Each sub-list should contain student name and cgpa. "
   ]
  },
  {
   "cell_type": "code",
   "execution_count": 22,
   "metadata": {
    "id": "dgv1o22XjVPc"
   },
   "outputs": [],
   "source": [
    "std_cgpa = [\n",
    "            [\"Basit\",3.5],\n",
    "            [\"Daniyal\",3],\n",
    "            [\"Taha\",4],\n",
    "            [\"Arqam\",2],\n",
    "            [\"Khizar\",2.9],\n",
    "            [\"Aroosh\",3.8]\n",
    "]"
   ]
  },
  {
   "cell_type": "markdown",
   "metadata": {
    "id": "yqzyRnAHjVPc"
   },
   "source": [
    "Print CGPA of last student in the list"
   ]
  },
  {
   "cell_type": "code",
   "execution_count": 25,
   "metadata": {
    "colab": {
     "base_uri": "https://localhost:8080/"
    },
    "id": "MehiV6jFjVPc",
    "outputId": "cd001657-b41f-4ccb-c087-b2cecf9cde1c"
   },
   "outputs": [
    {
     "name": "stdout",
     "output_type": "stream",
     "text": [
      "3.8\n"
     ]
    }
   ],
   "source": [
    "print(std_cgpa[5][1])"
   ]
  },
  {
   "cell_type": "markdown",
   "metadata": {
    "id": "BEDv5N5sjVPd"
   },
   "source": [
    "Print each student name and cgpa "
   ]
  },
  {
   "cell_type": "code",
   "execution_count": 13,
   "metadata": {
    "colab": {
     "base_uri": "https://localhost:8080/"
    },
    "id": "aZ8aQq9ajVPd",
    "outputId": "9e364926-bc27-40f2-845c-383d6012ec81"
   },
   "outputs": [
    {
     "name": "stdout",
     "output_type": "stream",
     "text": [
      "['Basit', 3.5]\n",
      "['Daniyal', 3]\n",
      "['Taha', 4]\n",
      "['Arqam', 2]\n",
      "['Khizar', 2.9]\n",
      "['Aroosh', 3.8]\n"
     ]
    }
   ],
   "source": [
    "for element in std_cgpa:\n",
    "  print(element)"
   ]
  },
  {
   "cell_type": "markdown",
   "metadata": {
    "id": "8N3t9SBfjVPd"
   },
   "source": [
    "Calculate average cgpa"
   ]
  },
  {
   "cell_type": "code",
   "execution_count": 16,
   "metadata": {
    "id": "R1EqzpmCjVPd",
    "scrolled": true
   },
   "outputs": [
    {
     "name": "stdout",
     "output_type": "stream",
     "text": [
      "1.5999999999999999\n"
     ]
    }
   ],
   "source": [
    "s = 0\n",
    "for i in std_cgpa:\n",
    "    s += i[1]\n",
    "    \n",
    "avg = s / len(cgpa)\n",
    "print(avg)"
   ]
  },
  {
   "cell_type": "markdown",
   "metadata": {
    "id": "9nbk5p_zjVPe"
   },
   "source": [
    "## List Slicing\n",
    "A slicing expression selects a range of elements from a sequence.\n",
    "\n",
    "You have seen how indexing allows you to select a specific element in a sequence. Sometimes \n",
    "you want to select more than one element from a sequence. In Python, you can write \n",
    "expressions that select subsections of a sequence, known as slices.\n",
    "\n",
    "\n",
    "A slice is a span of items that are taken from a sequence. When you take a slice from a list, \n",
    "you get a span of elements from within the list. To get a slice of a list, you write an expression in the following general format:\n",
    "\n",
    "<center><code>list_name[start:end]</code></center>\n",
    "\n",
    "In the general format, _start_ is the index of the first element in the _slice_, and _end_ is the index marking the _end_ of the slice. The expression _returns a list containing a copy of the elements from start up to (but not including) end_."
   ]
  },
  {
   "cell_type": "code",
   "execution_count": null,
   "metadata": {
    "id": "swZBQkh-jVPe"
   },
   "outputs": [],
   "source": [
    "# list of days of a week\n",
    "weekdays = [\"Sunday\",\"Monday\",\"Tuesday\",\"Wednesday\",\"Thursday\",\"Friday\",\"Saturday\"]"
   ]
  },
  {
   "cell_type": "code",
   "execution_count": null,
   "metadata": {
    "id": "lWdrl29HjVPf"
   },
   "outputs": [],
   "source": [
    "# The following statement uses a slicing expression to get the elements from indexes 2 up to, but not including, 5:\n",
    "mid_days = weekdays[2:5]"
   ]
  },
  {
   "cell_type": "code",
   "execution_count": null,
   "metadata": {
    "id": "ecyaLfINjVPf",
    "outputId": "575afb59-bded-4e98-98bd-3a7cb6b7925c"
   },
   "outputs": [
    {
     "name": "stdout",
     "output_type": "stream",
     "text": [
      "['Tuesday', 'Wednesday', 'Thursday']\n"
     ]
    }
   ],
   "source": [
    "print(mid_days)"
   ]
  },
  {
   "cell_type": "markdown",
   "metadata": {
    "id": "9I5UkKczjVPf"
   },
   "source": [
    "Omitting the _start_ index will start the slice from the beginning"
   ]
  },
  {
   "cell_type": "code",
   "execution_count": null,
   "metadata": {
    "id": "_seivC8-jVPf",
    "outputId": "51f17799-5782-4b8a-ee2b-7ce2df17a0ae"
   },
   "outputs": [
    {
     "data": {
      "text/plain": [
       "['Sunday', 'Monday', 'Tuesday', 'Wednesday']"
      ]
     },
     "execution_count": 12,
     "metadata": {
      "tags": []
     },
     "output_type": "execute_result"
    }
   ],
   "source": [
    "weekdays[:4]"
   ]
  },
  {
   "cell_type": "markdown",
   "metadata": {
    "id": "mMNOqYB8jVPg"
   },
   "source": [
    "Omitting the _end_ index will slice till end of the list"
   ]
  },
  {
   "cell_type": "code",
   "execution_count": null,
   "metadata": {
    "id": "-ZjdOP7yjVPg",
    "outputId": "51b4d03f-a164-4698-c3fa-350fd1d79893"
   },
   "outputs": [
    {
     "data": {
      "text/plain": [
       "['Thursday', 'Friday', 'Saturday']"
      ]
     },
     "execution_count": 13,
     "metadata": {
      "tags": []
     },
     "output_type": "execute_result"
    }
   ],
   "source": [
    "weekdays[4:]"
   ]
  },
  {
   "cell_type": "markdown",
   "metadata": {
    "id": "s6oCbyORjVPg"
   },
   "source": [
    "__Note:__ Invalid indexes do not cause slicing expressions to raise an exception. For example:\n",
    "- If the end index specifies a position beyond the end of the list, Python will use the length of the list instead.\n",
    "- If the start index specifies a position before the beginning of the list, Python will use 0 instead.\n",
    "- If the start index is greater than the end index, the slicing expression will return an empty list."
   ]
  },
  {
   "cell_type": "markdown",
   "metadata": {
    "id": "1FtIxO_vjVPg"
   },
   "source": [
    "## Exercise\n",
    "\n",
    "1. What will the following code display?\n",
    "```python\n",
    "    numbers = [1,2,3,4,5]\n",
    "    print(numbers[1:3])\n",
    "```\n",
    "\n",
    "2. What will the following code display?\n",
    "```python\n",
    "    numbers = [1,2,3,4,5]\n",
    "    print(numbers[1:])\n",
    "```\n",
    "\n",
    "3. What will the following code display?\n",
    "```python\n",
    "    numbers = [1,2,3,4,5]\n",
    "    print(numbers[:1])\n",
    "```\n",
    "\n",
    "4. What will the following code display?\n",
    "```python\n",
    "    numbers = [1,2,3,4,5]\n",
    "    print(numbers[:])\n",
    "```\n",
    "\n",
    "5. What will the following code display?\n",
    "```python\n",
    "    numbers = [1,2,3,4,5]\n",
    "    print(numbers[-3:])\n",
    "```"
   ]
  },
  {
   "cell_type": "markdown",
   "metadata": {
    "id": "7X2J9bGCjVPh"
   },
   "source": [
    "## Copying Lists"
   ]
  },
  {
   "cell_type": "markdown",
   "metadata": {
    "id": "jnMt_CiMjVPh"
   },
   "source": [
    "To make a copy of a list, you must copy the elements of the list. "
   ]
  },
  {
   "cell_type": "code",
   "execution_count": null,
   "metadata": {
    "id": "VQXRrueOjVPh"
   },
   "outputs": [],
   "source": [
    "# Consider the example\n",
    "list1 = [1,2,3]\n",
    "list2 = list1"
   ]
  },
  {
   "cell_type": "markdown",
   "metadata": {
    "id": "oUzcdwQHjVPh"
   },
   "source": [
    "Now, both lists points to same object in memory. Changing in one list reflects in the other list. "
   ]
  },
  {
   "cell_type": "code",
   "execution_count": null,
   "metadata": {
    "id": "H5DfyUSljVPh",
    "outputId": "15eb90d1-7238-45af-ecf5-5d62bc8cb60e",
    "scrolled": true
   },
   "outputs": [
    {
     "data": {
      "text/plain": [
       "[1, 2, 999]"
      ]
     },
     "execution_count": 31,
     "metadata": {
      "tags": []
     },
     "output_type": "execute_result"
    }
   ],
   "source": [
    "list2[2] = 999\n",
    "list2"
   ]
  },
  {
   "cell_type": "code",
   "execution_count": null,
   "metadata": {
    "id": "V_1UxhinjVPi",
    "outputId": "1f9a5ed8-ee73-4b78-b36e-2cbd1a7a14c3",
    "scrolled": true
   },
   "outputs": [
    {
     "data": {
      "text/plain": [
       "[1, 2, 999]"
      ]
     },
     "execution_count": 32,
     "metadata": {
      "tags": []
     },
     "output_type": "execute_result"
    }
   ],
   "source": [
    "list1"
   ]
  },
  {
   "cell_type": "markdown",
   "metadata": {
    "id": "F1s-0pT7jVPi"
   },
   "source": [
    "In order to copy a list, use one of the following:\n",
    "\n",
    "1. Use slicing expression [:]\n",
    "2. Use copy() method of list"
   ]
  },
  {
   "cell_type": "code",
   "execution_count": null,
   "metadata": {
    "id": "pWPKw34ujVPi",
    "outputId": "0f767709-9c5b-402e-c5f4-99fca1abef82"
   },
   "outputs": [
    {
     "data": {
      "text/plain": [
       "['Hi', 2, 3]"
      ]
     },
     "execution_count": 38,
     "metadata": {
      "tags": []
     },
     "output_type": "execute_result"
    }
   ],
   "source": [
    "L1 = [1,2,3]\n",
    "L2 = L1[:] # deep copy\n",
    "\n",
    "L2[0] = \"Hi\"\n",
    "L2"
   ]
  },
  {
   "cell_type": "code",
   "execution_count": null,
   "metadata": {
    "id": "xtVMJAr3jVPi",
    "outputId": "c0ecaa05-1b53-4f0c-fca8-cc181b8bf968"
   },
   "outputs": [
    {
     "data": {
      "text/plain": [
       "[1, 2, 3]"
      ]
     },
     "execution_count": 39,
     "metadata": {
      "tags": []
     },
     "output_type": "execute_result"
    }
   ],
   "source": [
    "L1"
   ]
  },
  {
   "cell_type": "code",
   "execution_count": null,
   "metadata": {
    "id": "5Vn44VsljVPj",
    "outputId": "29df9178-a933-466f-a59f-d99e2f692ec3"
   },
   "outputs": [
    {
     "data": {
      "text/plain": [
       "[1, 2, 3]"
      ]
     },
     "execution_count": 41,
     "metadata": {
      "tags": []
     },
     "output_type": "execute_result"
    }
   ],
   "source": [
    "# Using Copy Method\n",
    "L3 = L1.copy()\n",
    "L3"
   ]
  },
  {
   "cell_type": "markdown",
   "metadata": {
    "id": "84JSXzL8jVPj"
   },
   "source": [
    "\n",
    "## Sequence Operations\n",
    "Because they are sequences, lists support all the sequence operations. Given below is a table that shows some of the common sequence operations\n",
    "\n",
    "|Operation|Description|\n",
    "|:---------|:-----------|\n",
    "x in seq | True, when x is found in the sequence seq, otherwise False\n",
    "x not in seq | False, when x is found in the sequence seq, otherwise True\n",
    "x + y | Concatenate two sequences x and y\n",
    "x * n or n * x | Add sequence x with itself n times\n",
    "seq\\[i\\]| ith item of the sequence.\n",
    "len(seq) | Length or number of elements in the sequence\n",
    "min(seq) | Minimum element in the sequence\n",
    "max(seq) | Maximum element in the sequence\n",
    "seq.index(x\\[, i[, j]\\]) | Index of the first occurrence of x (in the index range i and j)\n",
    "seq.count(x) | Count total number of elements in the sequence\n",
    "seq.append(x) | Add x at the end of the sequence\n",
    "seq.clear() | Clear the contents of the sequence\n",
    "seq.insert(i, x) | Insert x at the position i\n",
    "seq.extend(iterable) | adds the specified list elements (or any iterable) to the end of the current list.\n",
    "seq.pop(\\[i\\]) | Return the item at position i, and also remove it from sequence. Default is last element.\n",
    "seq.remove(x) | Remove first occurrence of item x\n",
    "seq.reverse() | Reverse the list"
   ]
  },
  {
   "cell_type": "code",
   "execution_count": null,
   "metadata": {
    "id": "OJJ2n2RdjVPj"
   },
   "outputs": [],
   "source": [
    "# Create a list\n",
    "L = [1,2,3]"
   ]
  },
  {
   "cell_type": "code",
   "execution_count": null,
   "metadata": {
    "id": "TyNZuTpvjVPk",
    "outputId": "438528e3-9856-4d47-9103-95a8aa4e303b"
   },
   "outputs": [
    {
     "name": "stdout",
     "output_type": "stream",
     "text": [
      "2 is present\n"
     ]
    }
   ],
   "source": [
    "# Check if 2 is present in list\n",
    "if 2 in L:\n",
    "    print(\"2 is present\")\n",
    "else:\n",
    "    print(\"2 is not present\")"
   ]
  },
  {
   "cell_type": "code",
   "execution_count": null,
   "metadata": {
    "id": "bMRFsH0PjVPk",
    "outputId": "0ba62d84-5ce2-4edb-b875-5179383bd7a0"
   },
   "outputs": [
    {
     "name": "stdout",
     "output_type": "stream",
     "text": [
      "-99 is not present\n"
     ]
    }
   ],
   "source": [
    "# Check non-presence\n",
    "if -99 not in L:\n",
    "    print(\"-99 is not present\")\n",
    "    "
   ]
  },
  {
   "cell_type": "code",
   "execution_count": null,
   "metadata": {
    "id": "U_iIWOaWjVPk",
    "outputId": "bb0bbe68-f52b-4278-a5a7-8604e6ed8eea"
   },
   "outputs": [
    {
     "name": "stdout",
     "output_type": "stream",
     "text": [
      "List L:  [1, 2, 3]\n",
      "List L1: [1, 2, 3, 'a', 'b', 'c']\n"
     ]
    }
   ],
   "source": [
    "# Concatenation\n",
    "L1 = L + ['a','b','c']\n",
    "print(\"List L: \", L)\n",
    "print(\"List L1:\", L1)"
   ]
  },
  {
   "cell_type": "code",
   "execution_count": null,
   "metadata": {
    "id": "8xgNo_gfjVPk",
    "outputId": "f5c1fd3a-421f-400e-9987-c5fe9d78380a"
   },
   "outputs": [
    {
     "name": "stdout",
     "output_type": "stream",
     "text": [
      "[1, 2, 3, 'a', 'b', 'c', 1, 2, 3, 'a', 'b', 'c', 1, 2, 3, 'a', 'b', 'c']\n"
     ]
    }
   ],
   "source": [
    "# Repeating list\n",
    "L2 = L1 * 3  # Repeats L1 3 times and creates a new list L2\n",
    "print(L2)"
   ]
  },
  {
   "cell_type": "code",
   "execution_count": null,
   "metadata": {
    "id": "TQtolLpPjVPl",
    "outputId": "d4d10c5c-de98-4d38-f303-f74836cadf95",
    "scrolled": true
   },
   "outputs": [
    {
     "name": "stdout",
     "output_type": "stream",
     "text": [
      "Length: 6\n"
     ]
    }
   ],
   "source": [
    "# Length\n",
    "length = len(L1)   # Remember the difference between keywords and reserved words? Is len reserved or keyword?\n",
    "print(\"Length: {}\".format(length))"
   ]
  },
  {
   "cell_type": "code",
   "execution_count": null,
   "metadata": {
    "id": "kWu3epXCjVPl",
    "outputId": "b17673ed-e64a-4431-8bee-a1057ecd1ca2"
   },
   "outputs": [
    {
     "name": "stdout",
     "output_type": "stream",
     "text": [
      "[2, 3, 6, 5, 4, 0]\n",
      "Min: 0\n",
      "Max: 6\n"
     ]
    }
   ],
   "source": [
    "# Min and Max values\n",
    "min_val = min([2,3,6,5,4,0])\n",
    "max_val = max([2,3,6,5,4,0])\n",
    "print([2,3,6,5,4,0])\n",
    "print(\"Min: {}\".format(min_val))\n",
    "print(\"Max: {}\".format(max_val))"
   ]
  },
  {
   "cell_type": "code",
   "execution_count": null,
   "metadata": {
    "id": "jFYtUEAGjVPl",
    "outputId": "db168534-b454-4660-fb46-317eaf6b2b5c"
   },
   "outputs": [
    {
     "data": {
      "text/plain": [
       "2"
      ]
     },
     "execution_count": 2,
     "metadata": {
      "tags": []
     },
     "output_type": "execute_result"
    }
   ],
   "source": [
    "# Find index of 5\n",
    "[1,2,5,6,9].index(5)"
   ]
  },
  {
   "cell_type": "code",
   "execution_count": null,
   "metadata": {
    "id": "kTEdNZpOjVPm",
    "outputId": "66689a86-2a0c-4d44-a913-c322183f1ef0"
   },
   "outputs": [
    {
     "data": {
      "text/plain": [
       "2"
      ]
     },
     "execution_count": 3,
     "metadata": {
      "tags": []
     },
     "output_type": "execute_result"
    }
   ],
   "source": [
    "num_list = [1,2,3,3,3,3,6,9,8,7,8,8,7]\n",
    "num_list.index(3) # returns the first occurrence "
   ]
  },
  {
   "cell_type": "code",
   "execution_count": null,
   "metadata": {
    "id": "bXAssMBJjVPm",
    "outputId": "2ff90e45-7124-4424-a051-47742b3b0b11",
    "scrolled": true
   },
   "outputs": [
    {
     "data": {
      "text/plain": [
       "3"
      ]
     },
     "execution_count": 4,
     "metadata": {
      "tags": []
     },
     "output_type": "execute_result"
    }
   ],
   "source": [
    "# Specify the starting and ending point of search\n",
    "num_list.index(3,3,6)"
   ]
  },
  {
   "cell_type": "code",
   "execution_count": null,
   "metadata": {
    "id": "CStHIigUjVPm",
    "outputId": "a4b0541c-c144-4f43-8bd5-e31cb825cdb6"
   },
   "outputs": [
    {
     "data": {
      "text/plain": [
       "4"
      ]
     },
     "execution_count": 6,
     "metadata": {
      "tags": []
     },
     "output_type": "execute_result"
    }
   ],
   "source": [
    "# Count the number of 3's in the list\n",
    "num_list.count(3)"
   ]
  },
  {
   "cell_type": "code",
   "execution_count": null,
   "metadata": {
    "id": "bgSulvwRjVPm",
    "outputId": "57889a6c-6d86-4416-ecae-5848e552e2f2"
   },
   "outputs": [
    {
     "data": {
      "text/plain": [
       "[1, 2, 3, 3, 3, 3, 6, 9, 8, 7, 8, 8, 7, 0]"
      ]
     },
     "execution_count": 11,
     "metadata": {
      "tags": []
     },
     "output_type": "execute_result"
    }
   ],
   "source": [
    "# Append value at end of list\n",
    "num_list.append(0)\n",
    "num_list"
   ]
  },
  {
   "cell_type": "code",
   "execution_count": null,
   "metadata": {
    "id": "o0I8aaVjjVPn"
   },
   "outputs": [],
   "source": [
    "num_list.append([1,2,3])"
   ]
  },
  {
   "cell_type": "code",
   "execution_count": null,
   "metadata": {
    "id": "RDVRCQV5jVPn",
    "outputId": "a72206af-fe38-4e81-af9c-04dcb3cce448"
   },
   "outputs": [
    {
     "data": {
      "text/plain": [
       "[1, 2, 3, 3, 3, 3, 6, 9, 8, 7, 8, 8, 7, 0, [1, 2, 3]]"
      ]
     },
     "execution_count": 13,
     "metadata": {
      "tags": []
     },
     "output_type": "execute_result"
    }
   ],
   "source": [
    "num_list"
   ]
  },
  {
   "cell_type": "code",
   "execution_count": null,
   "metadata": {
    "id": "hw-z_TzujVPn",
    "outputId": "fadc8f89-8941-4227-a9e7-62aa1e74085a",
    "scrolled": true
   },
   "outputs": [
    {
     "name": "stdout",
     "output_type": "stream",
     "text": [
      "List contents before clear operation:  [1, 2, 3, 3, 3, 3, 6, 9, 8, 7, 8, 8, 7, 0, [1, 2, 3]]\n",
      "List contents after clear operation:  []\n"
     ]
    }
   ],
   "source": [
    "# Clear the contents of list\n",
    "print(\"List contents before clear operation: \", num_list)\n",
    "num_list.clear()\n",
    "print(\"List contents after clear operation: \", num_list)"
   ]
  },
  {
   "cell_type": "markdown",
   "metadata": {
    "id": "my9HJQmHjVPn"
   },
   "source": [
    "__Note:__ `clear()` method clears the contents of the list. It does not delete the list."
   ]
  },
  {
   "cell_type": "code",
   "execution_count": null,
   "metadata": {
    "id": "VkG4JLF8jVPo"
   },
   "outputs": [],
   "source": [
    "# Extends a list\n",
    "num_list.extend([1,2,3])"
   ]
  },
  {
   "cell_type": "code",
   "execution_count": null,
   "metadata": {
    "id": "2_HODIERjVPo",
    "outputId": "ed9efb54-32ac-4c0e-8fc1-35b698c78b3a",
    "scrolled": true
   },
   "outputs": [
    {
     "data": {
      "text/plain": [
       "[1, 'A', 2, 3]"
      ]
     },
     "execution_count": 20,
     "metadata": {
      "tags": []
     },
     "output_type": "execute_result"
    }
   ],
   "source": [
    "# Insert Element at specific index\n",
    "num_list.insert(1,\"A\")\n",
    "num_list"
   ]
  },
  {
   "cell_type": "code",
   "execution_count": null,
   "metadata": {
    "id": "UZrwayrdjVPo",
    "outputId": "8d7f6d22-a515-4deb-efeb-5def525a724b"
   },
   "outputs": [
    {
     "data": {
      "text/plain": [
       "2"
      ]
     },
     "execution_count": 21,
     "metadata": {
      "tags": []
     },
     "output_type": "execute_result"
    }
   ],
   "source": [
    "num_list.pop(2)     # Shrinking: delete an item in the middle"
   ]
  },
  {
   "cell_type": "code",
   "execution_count": null,
   "metadata": {
    "id": "I4td_PhZjVPo",
    "outputId": "8f0b9594-ddf5-4db7-9c50-1fae703d7de1"
   },
   "outputs": [
    {
     "data": {
      "text/plain": [
       "['aa', 'bb', 'cc']"
      ]
     },
     "execution_count": 22,
     "metadata": {
      "tags": []
     },
     "output_type": "execute_result"
    }
   ],
   "source": [
    "M = ['bb', 'aa', 'cc']\n",
    "M.sort()\n",
    "M"
   ]
  },
  {
   "cell_type": "code",
   "execution_count": null,
   "metadata": {
    "id": "jqBRkfsRjVPp"
   },
   "outputs": [],
   "source": [
    "M.reverse()"
   ]
  },
  {
   "cell_type": "code",
   "execution_count": null,
   "metadata": {
    "id": "fwppLuSNjVPp",
    "outputId": "53103919-3d3b-44a0-8900-763c6c7be763"
   },
   "outputs": [
    {
     "data": {
      "text/plain": [
       "['cc', 'bb', 'aa']"
      ]
     },
     "execution_count": 24,
     "metadata": {
      "tags": []
     },
     "output_type": "execute_result"
    }
   ],
   "source": [
    "M"
   ]
  },
  {
   "cell_type": "markdown",
   "metadata": {
    "id": "gRGXuPmpjVPp"
   },
   "source": [
    "The list **sort** method here, for example, orders the list in ascending fashion by default,\n",
    "and **reverse** reverses it—in both cases, the methods modify the list directly.\n"
   ]
  },
  {
   "cell_type": "markdown",
   "metadata": {
    "id": "_YSdTGx_jVPp"
   },
   "source": [
    "## Del Statement\n",
    "The remove method that you saw earlier removes a specific item from a list, if that item is \n",
    "in the list. Some situations might require that you remove an element from a specific index, \n",
    "regardless of the item that is stored at that index. This can be accomplished with the del\n",
    "statement. Here is an example of how to use the del statement:"
   ]
  },
  {
   "cell_type": "code",
   "execution_count": null,
   "metadata": {
    "id": "sytFThPhjVPq",
    "outputId": "15f5865f-37e4-438d-fc2a-c5ed99843ed6",
    "scrolled": true
   },
   "outputs": [
    {
     "name": "stdout",
     "output_type": "stream",
     "text": [
      "Before Deletion: [1, 2, 3, 4, 5]\n",
      "After Deletion: [1, 2, 4, 5]\n"
     ]
    }
   ],
   "source": [
    "my_list = [1,2,3,4,5]\n",
    "print(\"Before Deletion: {}\".format(my_list))\n",
    "del my_list[2]\n",
    "print(\"After Deletion: {}\".format(my_list))\n"
   ]
  },
  {
   "cell_type": "markdown",
   "metadata": {
    "id": "l27iAWVAjVPq"
   },
   "source": [
    "## Passing and Returning List from Functions"
   ]
  },
  {
   "cell_type": "code",
   "execution_count": null,
   "metadata": {
    "id": "0NkVahafjVPq"
   },
   "outputs": [],
   "source": [
    "def binary_search(l,key):\n",
    "    size = len(l)\n",
    "    if size == 0:\n",
    "        return false\n",
    "    if size == 1:\n",
    "        return l[0] == key\n",
    "    first = 0\n",
    "    last = size - 1\n",
    "    middle = None\n",
    "    while first <= last:\n",
    "        middle = (first+last)//2 # integer div\n",
    "        if l[middle] == key:\n",
    "            return middle\n",
    "        elif key > l[middle]:\n",
    "            first = middle + 1\n",
    "        else:\n",
    "            last = middle - 1\n",
    "    return false"
   ]
  },
  {
   "cell_type": "code",
   "execution_count": null,
   "metadata": {
    "id": "2r3FtqyAjVPq",
    "outputId": "fc7f1055-753a-4f8a-d893-04d3f42ba407"
   },
   "outputs": [
    {
     "name": "stdout",
     "output_type": "stream",
     "text": [
      "8888888\n"
     ]
    }
   ],
   "source": [
    "x = [c for c in range(100,10000000)]\n",
    "index = binary_search(x,8888888)\n",
    "print(x[index])"
   ]
  },
  {
   "cell_type": "markdown",
   "metadata": {
    "id": "na2lvD4KjVPr"
   },
   "source": [
    "## List Comprehension\n",
    "Do you remember the basic mathematics?\n",
    "\n",
    "* {x2 | x 2 N } gives squares of natural numbers.\n",
    "* {x2 : x in {0 . . . 9}} gives squares of numbers with in the provided set, {0 . . . 9}.\n",
    "\n",
    "List comprehension implements such well-known notations for sets. It is an elegant and concise way\n",
    "to define and create lists in Python, and off-course, it saves typing as well!\n",
    "\n",
    "Syntax for the list comprehension is:\n",
    "\"statement/expression\" followed by a \"for clause\" with in \"square brackets\".\n",
    "\n",
    "Let’s learn with example while comparing for loop and list comprehension."
   ]
  },
  {
   "cell_type": "code",
   "execution_count": null,
   "metadata": {
    "collapsed": true,
    "id": "aQ-hzafsjVPr"
   },
   "outputs": [],
   "source": [
    "# We have a list 'x'\n",
    "x = [2,3,4,5]"
   ]
  },
  {
   "cell_type": "markdown",
   "metadata": {
    "id": "byh7Z7dTjVPr"
   },
   "source": [
    "What if we want to create a new list that contains squares of all the elements in list x? We can do this\n",
    "using a for loop as given in the code cell below (*please read the comments*)."
   ]
  },
  {
   "cell_type": "code",
   "execution_count": null,
   "metadata": {
    "collapsed": true,
    "id": "y_7qZdrAjVPr"
   },
   "outputs": [],
   "source": [
    "def list_of_squares():\n",
    "    out = []     # empty list for squares\n",
    "    for num in x:     # loop test\n",
    "        out.append(num**2)     # taking squeares and appending them to the empty list \"out\"\n",
    "    print(out)     # using print to get the output"
   ]
  },
  {
   "cell_type": "code",
   "execution_count": null,
   "metadata": {
    "id": "xOn4zDmYjVPs",
    "outputId": "e0b979bc-7190-44d5-aef2-5f9344e05f1d"
   },
   "outputs": [
    {
     "name": "stdout",
     "output_type": "stream",
     "text": [
      "[4, 9, 16, 25]\n"
     ]
    }
   ],
   "source": [
    "#calling list_of_squares function\n",
    "list_of_squares()"
   ]
  },
  {
   "cell_type": "markdown",
   "metadata": {
    "id": "zgWehDO8jVPs"
   },
   "source": [
    "Ok, we have accomplished the task to compute squares using for loop, however, the above task can be\n",
    "elegantly implemented using a list comprehension in a one line of code. **Simply take for statement\n",
    "and put it after what you want in result!**"
   ]
  },
  {
   "cell_type": "code",
   "execution_count": null,
   "metadata": {
    "id": "lf_lWD3PjVPs",
    "outputId": "0b1c1d1b-5baf-4487-f009-0ea22f97c572"
   },
   "outputs": [
    {
     "data": {
      "text/plain": [
       "[4, 9, 16, 25]"
      ]
     },
     "execution_count": 18,
     "metadata": {
      "tags": []
     },
     "output_type": "execute_result"
    }
   ],
   "source": [
    "# So, this is going to be out first list comprehension to compute squares of all ,!the elements in a given list!\n",
    "[num**2 for num in x]"
   ]
  },
  {
   "cell_type": "code",
   "execution_count": null,
   "metadata": {
    "id": "Uv153HKjjVPs",
    "outputId": "cc6e82d2-2830-4b3e-e595-b79c5698d7f1"
   },
   "outputs": [
    {
     "data": {
      "text/plain": [
       "['H', 'e', 'l', 'l', 'o', ' ', 'W', 'o', 'r', 'l', 'd']"
      ]
     },
     "execution_count": 19,
     "metadata": {
      "tags": []
     },
     "output_type": "execute_result"
    }
   ],
   "source": [
    "# Another example using string -- notice the white space!\n",
    "[letters for letters in 'Hello World']"
   ]
  },
  {
   "cell_type": "code",
   "execution_count": null,
   "metadata": {
    "id": "xl-ibLQvjVPt",
    "outputId": "00d3b191-f549-41a1-aa64-22340935b1be"
   },
   "outputs": [
    {
     "data": {
      "text/plain": [
       "[4, 9, 16, 25, 36, 49, 64, 81]"
      ]
     },
     "execution_count": 20,
     "metadata": {
      "tags": []
     },
     "output_type": "execute_result"
    }
   ],
   "source": [
    "# one more example using range()\n",
    "[numbers**2 for numbers in range(2,10)]"
   ]
  },
  {
   "cell_type": "markdown",
   "metadata": {
    "id": "KfuBvWWljVPt"
   },
   "source": [
    "# Tuples\n",
    "The tuple object (pronounced “toople” or “tuhple,” depending on whom you ask) is\n",
    "roughly like a list that cannot be changed—tuples are *sequences*, like lists, but they are\n",
    "immutable, like strings. Functionally, they’re used to represent fixed collections of\n",
    "items: the components of a specific calendar date, for instance. Syntactically, they are\n",
    "normally coded in parentheses instead of square brackets, and they support arbitrary\n",
    "types, arbitrary nesting, and the usual sequence operations:\n",
    "\n",
    "## Creating a Tuple"
   ]
  },
  {
   "cell_type": "markdown",
   "metadata": {
    "id": "4aTOEI4SjVPt"
   },
   "source": [
    "Tuples are created using small brackets positioned around the elements of list that are separated\n",
    "using a comma. For example:"
   ]
  },
  {
   "cell_type": "code",
   "execution_count": null,
   "metadata": {
    "id": "Efi42POnjVPt"
   },
   "outputs": [],
   "source": [
    "T = (1, 2, 3, 4)     # A 4-item tuple"
   ]
  },
  {
   "cell_type": "code",
   "execution_count": null,
   "metadata": {
    "id": "Ohr-Ye_PjVPu",
    "outputId": "51335745-aaee-4064-fdb4-a4116aadf01d"
   },
   "outputs": [
    {
     "name": "stdout",
     "output_type": "stream",
     "text": [
      "(1, 2, 3, 4)\n"
     ]
    }
   ],
   "source": [
    "# Print the tuple\n",
    "print(T)"
   ]
  },
  {
   "cell_type": "code",
   "execution_count": null,
   "metadata": {
    "id": "e2S3kmUGjVPu",
    "outputId": "e9d4a56f-5d1e-45d4-f0ef-877a9e44ff42",
    "scrolled": true
   },
   "outputs": [
    {
     "name": "stdout",
     "output_type": "stream",
     "text": [
      "<class 'tuple'>\n"
     ]
    }
   ],
   "source": [
    "# Check the data type\n",
    "print(type(T))"
   ]
  },
  {
   "cell_type": "markdown",
   "metadata": {
    "id": "p76lToUxjVPu"
   },
   "source": [
    "More examples:"
   ]
  },
  {
   "cell_type": "code",
   "execution_count": null,
   "metadata": {
    "id": "AV_mqXwyjVPu"
   },
   "outputs": [],
   "source": [
    "student_tuple = ()"
   ]
  },
  {
   "cell_type": "code",
   "execution_count": null,
   "metadata": {
    "id": "pPInLOJEjVPv",
    "outputId": "5817b7fc-ad30-4d0d-fd63-1637ddcfdc5e"
   },
   "outputs": [
    {
     "data": {
      "text/plain": [
       "()"
      ]
     },
     "execution_count": 23,
     "metadata": {
      "tags": []
     },
     "output_type": "execute_result"
    }
   ],
   "source": [
    "student_tuple"
   ]
  },
  {
   "cell_type": "code",
   "execution_count": null,
   "metadata": {
    "id": "-kHItXowjVPv",
    "outputId": "486ca553-3bb6-4e48-ee3a-e9d83e4d6844"
   },
   "outputs": [
    {
     "data": {
      "text/plain": [
       "0"
      ]
     },
     "execution_count": 24,
     "metadata": {
      "tags": []
     },
     "output_type": "execute_result"
    }
   ],
   "source": [
    "len(student_tuple)"
   ]
  },
  {
   "cell_type": "markdown",
   "metadata": {
    "id": "I-NkKRlNjVPv"
   },
   "source": [
    "__You can pack a tuple by separating its values with commas__"
   ]
  },
  {
   "cell_type": "code",
   "execution_count": null,
   "metadata": {
    "id": "5lNKvE8QjVPv"
   },
   "outputs": [],
   "source": [
    "student_tuple = 'Ali','Usman',3.3"
   ]
  },
  {
   "cell_type": "code",
   "execution_count": null,
   "metadata": {
    "id": "3Asy8ITJjVPw",
    "outputId": "ed5c781b-2f07-4884-dcb6-13b60b6850d0"
   },
   "outputs": [
    {
     "data": {
      "text/plain": [
       "('Ali', 'Usman', 3.3)"
      ]
     },
     "execution_count": 26,
     "metadata": {
      "tags": []
     },
     "output_type": "execute_result"
    }
   ],
   "source": [
    "student_tuple"
   ]
  },
  {
   "cell_type": "markdown",
   "metadata": {
    "id": "kegn5aAwjVPw"
   },
   "source": [
    "__When you output a tuple, Python always displays its contents in parentheses. You may\n",
    "surround a tuple’s comma-separated list of values with optional parentheses:__"
   ]
  },
  {
   "cell_type": "code",
   "execution_count": null,
   "metadata": {
    "id": "ELFugiSRjVPw"
   },
   "outputs": [],
   "source": [
    "another_student_tuple = ('Zeeshan','Junaid','Shakeel')"
   ]
  },
  {
   "cell_type": "markdown",
   "metadata": {
    "id": "pIxBOXn-jVPw"
   },
   "source": [
    "__A tuple with single element__"
   ]
  },
  {
   "cell_type": "code",
   "execution_count": null,
   "metadata": {
    "id": "vcq1Vy3BjVPw",
    "outputId": "81a2611d-2dc0-4003-af81-e4b3dc5c9342",
    "scrolled": true
   },
   "outputs": [
    {
     "name": "stdout",
     "output_type": "stream",
     "text": [
      "<class 'tuple'>\n",
      "<class 'str'>\n"
     ]
    }
   ],
   "source": [
    "singleton_tuple = ('a',) #note the comma\n",
    "singleton_tuple_wrong = ('a') # this is not a tuple\n",
    "print(type(singleton_tuple))\n",
    "print(type(singleton_tuple_wrong))"
   ]
  },
  {
   "cell_type": "markdown",
   "metadata": {
    "id": "XAE6fzK2jVPx"
   },
   "source": [
    "## Accessing Elements of Tuples (Indexing)\n",
    "You can access elements from a tuple using an index (within square bracket). The index returns the\n",
    "object at that position. For example:"
   ]
  },
  {
   "cell_type": "code",
   "execution_count": null,
   "metadata": {
    "id": "mW8LNGY5jVPx",
    "outputId": "575219a7-9822-48e3-faf5-477734651427"
   },
   "outputs": [
    {
     "data": {
      "text/plain": [
       "2"
      ]
     },
     "execution_count": 13,
     "metadata": {
      "tags": []
     },
     "output_type": "execute_result"
    }
   ],
   "source": [
    "T[1]"
   ]
  },
  {
   "cell_type": "code",
   "execution_count": null,
   "metadata": {
    "id": "EivkbQqEjVPy"
   },
   "outputs": [],
   "source": [
    "T1 = (1,(2,3,4), 5) # Nesting tuples"
   ]
  },
  {
   "cell_type": "code",
   "execution_count": null,
   "metadata": {
    "id": "fczfT_UJjVPy",
    "outputId": "3f63fc23-662d-4cc9-f0b3-80117aaa37e7"
   },
   "outputs": [
    {
     "data": {
      "text/plain": [
       "1"
      ]
     },
     "execution_count": 16,
     "metadata": {
      "tags": []
     },
     "output_type": "execute_result"
    }
   ],
   "source": [
    "T1[0]"
   ]
  },
  {
   "cell_type": "code",
   "execution_count": null,
   "metadata": {
    "id": "0tTgRyM-jVPy",
    "outputId": "b58674a2-dbcc-46ef-bbc3-8ff88e9bb36c"
   },
   "outputs": [
    {
     "data": {
      "text/plain": [
       "(2, 3, 4)"
      ]
     },
     "execution_count": 18,
     "metadata": {
      "tags": []
     },
     "output_type": "execute_result"
    }
   ],
   "source": [
    "T1[1]"
   ]
  },
  {
   "cell_type": "code",
   "execution_count": null,
   "metadata": {
    "id": "1x9tz6WCjVPy",
    "outputId": "f5b112fd-e61e-424d-c4ad-d42b1776add8"
   },
   "outputs": [
    {
     "data": {
      "text/plain": [
       "4"
      ]
     },
     "execution_count": 19,
     "metadata": {
      "tags": []
     },
     "output_type": "execute_result"
    }
   ],
   "source": [
    "T1[1][2]"
   ]
  },
  {
   "cell_type": "markdown",
   "metadata": {
    "id": "QtKBHf9fjVPz"
   },
   "source": [
    "## Tuples are Immutable\n",
    "Tuples are Immutable i.e. you can not assign or change a new value to a tuple. "
   ]
  },
  {
   "cell_type": "code",
   "execution_count": null,
   "metadata": {
    "id": "JM5QlvEijVPz"
   },
   "outputs": [],
   "source": [
    "t1 = (1,3,4)"
   ]
  },
  {
   "cell_type": "code",
   "execution_count": null,
   "metadata": {
    "id": "D4cT0nP5jVPz",
    "outputId": "3680a055-d042-4f84-df91-1cbdc4dcada7",
    "scrolled": false
   },
   "outputs": [
    {
     "ename": "TypeError",
     "evalue": "'tuple' object does not support item assignment",
     "output_type": "error",
     "traceback": [
      "\u001b[1;31m---------------------------------------------------------------------------\u001b[0m",
      "\u001b[1;31mTypeError\u001b[0m                                 Traceback (most recent call last)",
      "\u001b[1;32m<ipython-input-30-652e3dbd77c4>\u001b[0m in \u001b[0;36m<module>\u001b[1;34m\u001b[0m\n\u001b[1;32m----> 1\u001b[1;33m \u001b[0mt1\u001b[0m\u001b[1;33m[\u001b[0m\u001b[1;36m0\u001b[0m\u001b[1;33m]\u001b[0m \u001b[1;33m=\u001b[0m \u001b[1;36m2\u001b[0m \u001b[1;31m# Illegal operation\u001b[0m\u001b[1;33m\u001b[0m\u001b[1;33m\u001b[0m\u001b[0m\n\u001b[0m",
      "\u001b[1;31mTypeError\u001b[0m: 'tuple' object does not support item assignment"
     ]
    }
   ],
   "source": [
    "t1[0] = 2 # Illegal operation"
   ]
  },
  {
   "cell_type": "markdown",
   "metadata": {
    "id": "7fUQKRIXjVPz"
   },
   "source": [
    "## Tuples may contain Mutable Objects\n",
    "Consider the following tuple that contains a list as its item. We know that lists are mutable."
   ]
  },
  {
   "cell_type": "code",
   "execution_count": null,
   "metadata": {
    "id": "4A5sYKHxjVPz"
   },
   "outputs": [],
   "source": [
    "tm = (1,2,['a','b','c'])"
   ]
  },
  {
   "cell_type": "code",
   "execution_count": null,
   "metadata": {
    "id": "Dz590pn9jVP0",
    "outputId": "7d058f19-d040-40ec-c875-083a0160963f"
   },
   "outputs": [
    {
     "data": {
      "text/plain": [
       "['a', 'b', 'c']"
      ]
     },
     "execution_count": 32,
     "metadata": {
      "tags": []
     },
     "output_type": "execute_result"
    }
   ],
   "source": [
    "tm[2] #Get list"
   ]
  },
  {
   "cell_type": "code",
   "execution_count": null,
   "metadata": {
    "id": "MdfHI-CKjVP0"
   },
   "outputs": [],
   "source": [
    "tm[2][1] = 'z'"
   ]
  },
  {
   "cell_type": "code",
   "execution_count": null,
   "metadata": {
    "id": "SDcbn7cpjVP0",
    "outputId": "038f8f59-4b1f-44bd-be88-ab32d391553d"
   },
   "outputs": [
    {
     "data": {
      "text/plain": [
       "(1, 2, ['a', 'z', 'c'])"
      ]
     },
     "execution_count": 35,
     "metadata": {
      "tags": []
     },
     "output_type": "execute_result"
    }
   ],
   "source": [
    "tm"
   ]
  },
  {
   "cell_type": "markdown",
   "metadata": {
    "id": "aVU3MLpgjVP0"
   },
   "source": [
    "## Negative Indexing\n",
    "Negative indexing can also be applied on tuples."
   ]
  },
  {
   "cell_type": "code",
   "execution_count": null,
   "metadata": {
    "id": "WSmZRaPHjVP1",
    "outputId": "2391d26f-7766-4429-d7a2-41d58a6d8160"
   },
   "outputs": [
    {
     "data": {
      "text/plain": [
       "4"
      ]
     },
     "execution_count": 20,
     "metadata": {
      "tags": []
     },
     "output_type": "execute_result"
    }
   ],
   "source": [
    "T[-1]"
   ]
  },
  {
   "cell_type": "code",
   "execution_count": null,
   "metadata": {
    "id": "XbxBBzsIjVP1",
    "outputId": "e4f518f8-3eaf-414f-f6aa-2fb1673020a7",
    "scrolled": false
   },
   "outputs": [
    {
     "ename": "IndexError",
     "evalue": "tuple index out of range",
     "output_type": "error",
     "traceback": [
      "\u001b[1;31m---------------------------------------------------------------------------\u001b[0m",
      "\u001b[1;31mIndexError\u001b[0m                                Traceback (most recent call last)",
      "\u001b[1;32m<ipython-input-21-8ff8c8cdb193>\u001b[0m in \u001b[0;36m<module>\u001b[1;34m\u001b[0m\n\u001b[0;32m      1\u001b[0m \u001b[1;31m# Index out of range\u001b[0m\u001b[1;33m\u001b[0m\u001b[1;33m\u001b[0m\u001b[1;33m\u001b[0m\u001b[0m\n\u001b[1;32m----> 2\u001b[1;33m \u001b[0mT\u001b[0m\u001b[1;33m[\u001b[0m\u001b[1;36m5\u001b[0m\u001b[1;33m]\u001b[0m\u001b[1;33m\u001b[0m\u001b[1;33m\u001b[0m\u001b[0m\n\u001b[0m",
      "\u001b[1;31mIndexError\u001b[0m: tuple index out of range"
     ]
    }
   ],
   "source": [
    "# Index out of range\n",
    "T[5]"
   ]
  },
  {
   "cell_type": "markdown",
   "metadata": {
    "id": "9ZM-QRX8jVP1"
   },
   "source": [
    "## Tuple Packing and Unpacking"
   ]
  },
  {
   "cell_type": "markdown",
   "metadata": {
    "id": "wazsMn33jVP1"
   },
   "source": [
    "Tuple packing means packing/combining values into a tuple. The following is an example of tuple packing:"
   ]
  },
  {
   "cell_type": "code",
   "execution_count": null,
   "metadata": {
    "id": "-f80UEqdjVP1"
   },
   "outputs": [],
   "source": [
    "tp = \"Val1\",2,[1,2]"
   ]
  },
  {
   "cell_type": "code",
   "execution_count": null,
   "metadata": {
    "id": "SB76EHGNjVP2",
    "outputId": "91a59934-9cc9-4df5-acf4-9e544223eccc"
   },
   "outputs": [
    {
     "data": {
      "text/plain": [
       "('Val1', 2, [1, 2])"
      ]
     },
     "execution_count": 37,
     "metadata": {
      "tags": []
     },
     "output_type": "execute_result"
    }
   ],
   "source": [
    "tp"
   ]
  },
  {
   "cell_type": "markdown",
   "metadata": {
    "id": "7hBZw8bGjVP2"
   },
   "source": [
    "You can also unpack the values into variables. "
   ]
  },
  {
   "cell_type": "code",
   "execution_count": null,
   "metadata": {
    "id": "QeHvjzA-jVP2"
   },
   "outputs": [],
   "source": [
    "a,b,c = tp"
   ]
  },
  {
   "cell_type": "code",
   "execution_count": null,
   "metadata": {
    "id": "L193_39yjVP2",
    "outputId": "ec34efb1-46f8-4cbd-cfea-3f1d611de44c"
   },
   "outputs": [
    {
     "name": "stdout",
     "output_type": "stream",
     "text": [
      "Val1\n",
      "2\n",
      "[1, 2]\n"
     ]
    }
   ],
   "source": [
    "print(a)\n",
    "print(b)\n",
    "print(c)"
   ]
  },
  {
   "cell_type": "markdown",
   "metadata": {
    "id": "_aI4Qj4WjVP3"
   },
   "source": [
    "## Exercise\n",
    "Create a tuple named cgpa that contains the cgpa of 6 students"
   ]
  },
  {
   "cell_type": "code",
   "execution_count": 25,
   "metadata": {
    "id": "YXMMWJdtjVP3"
   },
   "outputs": [],
   "source": [
    "cgpa = (3 , 4 , 2 , 1 , 2.2 , 1.9)"
   ]
  },
  {
   "cell_type": "markdown",
   "metadata": {
    "id": "XAijHIQLjVP3"
   },
   "source": [
    "Print out the tuple cgpa"
   ]
  },
  {
   "cell_type": "code",
   "execution_count": 27,
   "metadata": {
    "id": "Y1cE4cJEjVP3"
   },
   "outputs": [
    {
     "name": "stdout",
     "output_type": "stream",
     "text": [
      "<class 'tuple'>\n",
      "(3, 4, 2, 1, 2.2, 1.9)\n"
     ]
    }
   ],
   "source": [
    "print(type(cgpa))\n",
    "print(cgpa)"
   ]
  },
  {
   "cell_type": "markdown",
   "metadata": {
    "id": "ZAc_okY8jVP3"
   },
   "source": [
    "Print the cgpa of third student"
   ]
  },
  {
   "cell_type": "code",
   "execution_count": 28,
   "metadata": {
    "id": "qwD_RaUljVP3"
   },
   "outputs": [
    {
     "name": "stdout",
     "output_type": "stream",
     "text": [
      "1\n"
     ]
    }
   ],
   "source": [
    "print(cgpa[3])"
   ]
  },
  {
   "cell_type": "markdown",
   "metadata": {
    "id": "p0W3CBcKjVP4"
   },
   "source": [
    "Use a for loop to iterate over tuple items of cgpa"
   ]
  },
  {
   "cell_type": "code",
   "execution_count": 30,
   "metadata": {
    "id": "pSdvWkskjVP4"
   },
   "outputs": [
    {
     "name": "stdout",
     "output_type": "stream",
     "text": [
      "3,4,2,1,2.2,1.9,"
     ]
    }
   ],
   "source": [
    "for i in cgpa:\n",
    "    print(i,end=\",\")"
   ]
  },
  {
   "cell_type": "markdown",
   "metadata": {
    "id": "cMXpzhXwjVP4"
   },
   "source": [
    "## Nested Tuples\n",
    "\n",
    "Just like lists, tuples can also be nested."
   ]
  },
  {
   "cell_type": "code",
   "execution_count": null,
   "metadata": {
    "id": "gCG2Mw72jVP4"
   },
   "outputs": [],
   "source": [
    "# Multi-dimensional Tuple\n",
    "friends_age_2d = (\n",
    "    (\"Zeeshan\",26),\n",
    "    (\"Qasim\", 27),\n",
    "    (\"Huzaifa\", 25),\n",
    "    (\"Abdul Wahab\", 19),\n",
    "    (\"Sajawal\",27),\n",
    "    (\"Mudassar\",28)\n",
    " )"
   ]
  },
  {
   "cell_type": "code",
   "execution_count": null,
   "metadata": {
    "id": "AC0uzT2TjVP4",
    "outputId": "124a4e29-9d00-48fe-859b-b1da81f03b13"
   },
   "outputs": [
    {
     "data": {
      "text/plain": [
       "('Abdul Wahab', 19)"
      ]
     },
     "execution_count": 41,
     "metadata": {
      "tags": []
     },
     "output_type": "execute_result"
    }
   ],
   "source": [
    "#Fetch the element at index 3\n",
    "friends_age_2d[3]"
   ]
  },
  {
   "cell_type": "code",
   "execution_count": null,
   "metadata": {
    "id": "z5MDozhQjVP5",
    "outputId": "60da7efd-be78-453b-e872-f73570578319"
   },
   "outputs": [
    {
     "data": {
      "text/plain": [
       "19"
      ]
     },
     "execution_count": 42,
     "metadata": {
      "tags": []
     },
     "output_type": "execute_result"
    }
   ],
   "source": [
    "# Fetch the age of sajawal\n",
    "friends_age_2d[3][1]"
   ]
  },
  {
   "cell_type": "code",
   "execution_count": null,
   "metadata": {
    "id": "8QDEIdEbjVP5",
    "outputId": "cae0cbf3-5ed0-42fc-f2d9-17daaf67a610"
   },
   "outputs": [
    {
     "name": "stdout",
     "output_type": "stream",
     "text": [
      "Name: Zeeshan\n",
      "Age: 26\n",
      "\n",
      "Name: Qasim\n",
      "Age: 27\n",
      "\n",
      "Name: Huzaifa\n",
      "Age: 25\n",
      "\n",
      "Name: Abdul Wahab\n",
      "Age: 19\n",
      "\n",
      "Name: Sajawal\n",
      "Age: 27\n",
      "\n",
      "Name: Mudassar\n",
      "Age: 28\n",
      "\n"
     ]
    }
   ],
   "source": [
    "# print each friend info\n",
    "for friend in friends_age_2d:\n",
    "    print(f\"Name: {friend[0]}\")\n",
    "    print(f\"Age: {friend[1]}\")\n",
    "    print() # separating each friend by new line"
   ]
  },
  {
   "cell_type": "markdown",
   "metadata": {
    "id": "tSAANEkNjVP5"
   },
   "source": [
    "## Exercise\n",
    "\n",
    "You have been provided a multi-dimentsional tuple containing names and cgpa of each student. Write a program that will print an average cgpa of students.  \n"
   ]
  },
  {
   "cell_type": "code",
   "execution_count": null,
   "metadata": {
    "id": "O9h9pmQAjVP5"
   },
   "outputs": [],
   "source": [
    "students_cgpa = (\n",
    "    (\"Zeeshan\",3.71),\n",
    "    (\"Zunaina\", 3.82),\n",
    "    (\"Ahmed\", 3.87),\n",
    "    (\"Qasim\", 3.8),\n",
    "    (\"Komal\", 3.67),\n",
    "    (\"Nazifa\", 3.44)\n",
    ")"
   ]
  },
  {
   "cell_type": "code",
   "execution_count": null,
   "metadata": {
    "id": "47V6CS5CjVP6"
   },
   "outputs": [],
   "source": [
    "# write code here for calculating average cgpa"
   ]
  },
  {
   "cell_type": "markdown",
   "metadata": {
    "id": "Z4eD-iHEjVP6"
   },
   "source": [
    "## Tuple Slicing\n",
    "\n",
    "Method of slicing and indexing from the tuple is same like lists.\n",
    "\n",
    "    tuple_name[start:end]"
   ]
  },
  {
   "cell_type": "code",
   "execution_count": null,
   "metadata": {
    "id": "nSqr61rsjVP6"
   },
   "outputs": [],
   "source": [
    "# list of days of a week\n",
    "weekdays =(\"Sunday\",\"Monday\",\"Tuesday\",\"Wednesday\",\"Thursday\",\"Friday\",\"Saturday\")"
   ]
  },
  {
   "cell_type": "code",
   "execution_count": null,
   "metadata": {
    "id": "SfS6GMjHjVP6"
   },
   "outputs": [],
   "source": [
    "# The following statement uses a slicing expression to get the elements from indexes 2 up to, but not including, 5:\n",
    "mid_days = weekdays[2:5]"
   ]
  },
  {
   "cell_type": "code",
   "execution_count": null,
   "metadata": {
    "id": "q5xWK_hbjVP7",
    "outputId": "2e5aa6e0-2cd6-4de1-8885-f25cc007333e"
   },
   "outputs": [
    {
     "name": "stdout",
     "output_type": "stream",
     "text": [
      "('Tuesday', 'Wednesday', 'Thursday')\n"
     ]
    }
   ],
   "source": [
    "print(mid_days)"
   ]
  },
  {
   "cell_type": "markdown",
   "metadata": {
    "id": "6EqekiQZjVP7"
   },
   "source": [
    "Omitting the start index will start the slice from the beginning"
   ]
  },
  {
   "cell_type": "code",
   "execution_count": null,
   "metadata": {
    "id": "fax2EZmAjVP7",
    "outputId": "4a67268a-ca1f-4169-8eda-b2f81576bbe3"
   },
   "outputs": [
    {
     "data": {
      "text/plain": [
       "('Sunday', 'Monday', 'Tuesday', 'Wednesday')"
      ]
     },
     "execution_count": 30,
     "metadata": {
      "tags": []
     },
     "output_type": "execute_result"
    }
   ],
   "source": [
    "weekdays[:4]"
   ]
  },
  {
   "cell_type": "markdown",
   "metadata": {
    "id": "tSzNfnfKjVP7"
   },
   "source": [
    "Omitting the end index will slice till end of the list"
   ]
  },
  {
   "cell_type": "code",
   "execution_count": null,
   "metadata": {
    "id": "u4EdJFFmjVP8",
    "outputId": "9a974885-c17c-4391-a762-85d8a80236b3"
   },
   "outputs": [
    {
     "data": {
      "text/plain": [
       "('Thursday', 'Friday', 'Saturday')"
      ]
     },
     "execution_count": 31,
     "metadata": {
      "tags": []
     },
     "output_type": "execute_result"
    }
   ],
   "source": [
    "weekdays[4:]"
   ]
  },
  {
   "cell_type": "markdown",
   "metadata": {
    "id": "9EeEmD7djVP8"
   },
   "source": [
    "## Copying Tuples\n",
    "\n",
    "To make a copy of a tuple, you must copy the elements of the tuple."
   ]
  },
  {
   "cell_type": "code",
   "execution_count": null,
   "metadata": {
    "id": "sCJn6fmnjVP8"
   },
   "outputs": [],
   "source": [
    "from copy import deepcopy\n",
    "\n",
    "tup = (1, 2, 3, 4, 5)\n",
    "put = deepcopy(tup)"
   ]
  },
  {
   "cell_type": "markdown",
   "metadata": {
    "id": "cjYnJPkUjVP8"
   },
   "source": [
    "Admittedly, the ID of these two tuples will point to the same address. Because a tuple is immutable, there's really no rationale to create another copy of it that's the exact same. However, note that tuples can contain mutable elements to them, and deepcopy/id behaves as you anticipate it would:"
   ]
  },
  {
   "cell_type": "code",
   "execution_count": null,
   "metadata": {
    "id": "af2KMN2PjVP8",
    "outputId": "e6d86760-8a55-4077-a7da-8fc43a38f6aa"
   },
   "outputs": [
    {
     "name": "stdout",
     "output_type": "stream",
     "text": [
      "(1, 2, ['hello'])\n",
      "(1, 2, [])\n"
     ]
    }
   ],
   "source": [
    "from copy import deepcopy\n",
    "tup = (1, 2, [])\n",
    "put = deepcopy(tup)\n",
    "tup[2].append('hello')\n",
    "print(tup) # (1, 2, ['hello'])\n",
    "print(put) # (1, 2, [])"
   ]
  },
  {
   "cell_type": "markdown",
   "metadata": {
    "id": "s4oq6TurjVP9"
   },
   "source": [
    "## Sequence Operations\n",
    "\n",
    " Tuples are sequences, just like lists. The differences between tuples and lists are, the tuples cannot be changed unlike lists and tuples use parentheses, whereas lists use square brackets."
   ]
  },
  {
   "cell_type": "markdown",
   "metadata": {
    "id": "gLphNrw6jVP9"
   },
   "source": [
    "### Common Sequence Operations"
   ]
  },
  {
   "cell_type": "markdown",
   "metadata": {
    "id": "TMdyS0iZjVP9"
   },
   "source": [
    "|Operation|Description|\n",
    "|:---------|:-----------|\n",
    "x in seq | True, when x is found in the sequence seq, otherwise False\n",
    "x not in seq | False, when x is found in the sequence seq, otherwise True\n",
    "x + y | Concatenate two sequences x and y\n",
    "x * n or n * x | Add sequence x with itself n times\n",
    "seq\\[i\\]| ith item of the sequence.\n",
    "len(seq) | Length or number of elements in the sequence\n",
    "min(seq) | Minimum element in the sequence\n",
    "max(seq) | Maximum element in the sequence\n",
    "seq.index(x\\[, i[, j]\\]) | Index of the first occurrence of x (in the index range i and j)\n",
    "seq.count(x) | Count total number of elements in the sequence\n"
   ]
  },
  {
   "cell_type": "code",
   "execution_count": null,
   "metadata": {
    "id": "cAhfZz9vjVP9"
   },
   "outputs": [],
   "source": [
    "# Create a list\n",
    "T = (1,2,3,4,5)"
   ]
  },
  {
   "cell_type": "code",
   "execution_count": null,
   "metadata": {
    "id": "MvWms-6UjVP9",
    "outputId": "e467a8f1-a4f7-4c53-c012-fe4b4313b08c"
   },
   "outputs": [
    {
     "name": "stdout",
     "output_type": "stream",
     "text": [
      "2 is present\n"
     ]
    }
   ],
   "source": [
    "# Check if 2 is present in list\n",
    "if 2 in T:\n",
    "    print(\"2 is present\")\n",
    "else:\n",
    "    print(\"2 is not present\")"
   ]
  },
  {
   "cell_type": "code",
   "execution_count": null,
   "metadata": {
    "id": "Qop3eOyujVP9",
    "outputId": "631c6ad8-931a-4d56-8489-d573ac3d069c"
   },
   "outputs": [
    {
     "name": "stdout",
     "output_type": "stream",
     "text": [
      "-99 is not present\n"
     ]
    }
   ],
   "source": [
    "# Check non-presence\n",
    "if -99 not in T:\n",
    "    print(\"-99 is not present\")"
   ]
  },
  {
   "cell_type": "code",
   "execution_count": null,
   "metadata": {
    "id": "SMaQFNTPjVP-",
    "outputId": "7df9d768-6139-49de-a021-8f79a652d499"
   },
   "outputs": [
    {
     "name": "stdout",
     "output_type": "stream",
     "text": [
      "Tuple T:  (1, 2, 3, 4, 5)\n",
      "Tuple T1: (1, 2, 3, 4, 5, 'a', 'b', 'c')\n"
     ]
    }
   ],
   "source": [
    "# Concatenation\n",
    "T1 = T + ('a','b','c') # Note that it creates a new tuple\n",
    "print(\"Tuple T: \", T)\n",
    "print(\"Tuple T1:\", T1)"
   ]
  },
  {
   "cell_type": "code",
   "execution_count": null,
   "metadata": {
    "id": "TJnSZR0IjVP-",
    "outputId": "6d649028-fc41-4119-d38b-10cb1efc3556"
   },
   "outputs": [
    {
     "name": "stdout",
     "output_type": "stream",
     "text": [
      "(1, 2, 3, 4, 5, 'a', 'b', 'c', 1, 2, 3, 4, 5, 'a', 'b', 'c', 1, 2, 3, 4, 5, 'a', 'b', 'c')\n"
     ]
    }
   ],
   "source": [
    "# Repeating tuple\n",
    "T2 = T1 * 3 # Repeats T1 3 times and creates a new tuple T2\n",
    "print(T2)"
   ]
  },
  {
   "cell_type": "code",
   "execution_count": null,
   "metadata": {
    "id": "QAUIXF1OjVP-",
    "outputId": "d189b8ca-4976-41a2-a7eb-57c94c4dbfc5"
   },
   "outputs": [
    {
     "name": "stdout",
     "output_type": "stream",
     "text": [
      "Length: 8\n"
     ]
    }
   ],
   "source": [
    "# Length\n",
    "length = len(T1) # Remember the difference between keywords and reserved words? Is len reserved or keyword?\n",
    "print(\"Length: {}\".format(length))"
   ]
  },
  {
   "cell_type": "code",
   "execution_count": null,
   "metadata": {
    "id": "ZaBWoWg3jVP-",
    "outputId": "31464156-fc33-4fdd-cf16-b7087e283383"
   },
   "outputs": [
    {
     "name": "stdout",
     "output_type": "stream",
     "text": [
      "(2, 3, 6, 5, 4, 0)\n",
      "Min: 0\n",
      "Max: 6\n"
     ]
    }
   ],
   "source": [
    "# Min and Max values\n",
    "min_val = min((2,3,6,5,4,0))\n",
    "max_val = max((2,3,6,5,4,0))\n",
    "print((2,3,6,5,4,0))\n",
    "print(\"Min: {}\".format(min_val))\n",
    "print(\"Max: {}\".format(max_val))"
   ]
  },
  {
   "cell_type": "markdown",
   "metadata": {
    "id": "P8-LSI3njVP_"
   },
   "source": [
    "## Del Statement\n",
    "\n",
    "Removing individual tuple elements is not possible. There is, of course, nothing wrong with putting together another tuple with the undesired elements discarded using list comprehensions or slicing. To explicitly remove an entire tuple, you can use the del statement. "
   ]
  },
  {
   "cell_type": "code",
   "execution_count": null,
   "metadata": {
    "id": "Wqo7ty2TjVP_",
    "outputId": "539d2cdb-401c-439b-bd7b-15d6d6597da1"
   },
   "outputs": [
    {
     "name": "stdout",
     "output_type": "stream",
     "text": [
      "('IICT', 'AI Lab', 2000, 2001)\n",
      "After deleting tup : \n"
     ]
    },
    {
     "ename": "NameError",
     "evalue": "name 'tup' is not defined",
     "output_type": "error",
     "traceback": [
      "\u001b[1;31m---------------------------------------------------------------------------\u001b[0m",
      "\u001b[1;31mNameError\u001b[0m                                 Traceback (most recent call last)",
      "\u001b[1;32m<ipython-input-57-048459f70307>\u001b[0m in \u001b[0;36m<module>\u001b[1;34m\u001b[0m\n\u001b[0;32m      3\u001b[0m \u001b[1;32mdel\u001b[0m\u001b[1;33m(\u001b[0m\u001b[0mtup\u001b[0m\u001b[1;33m)\u001b[0m\u001b[1;33m\u001b[0m\u001b[1;33m\u001b[0m\u001b[0m\n\u001b[0;32m      4\u001b[0m \u001b[0mprint\u001b[0m\u001b[1;33m(\u001b[0m\u001b[1;34m\"After deleting tup : \"\u001b[0m\u001b[1;33m)\u001b[0m\u001b[1;33m\u001b[0m\u001b[1;33m\u001b[0m\u001b[0m\n\u001b[1;32m----> 5\u001b[1;33m \u001b[0mprint\u001b[0m\u001b[1;33m(\u001b[0m\u001b[0mtup\u001b[0m\u001b[1;33m)\u001b[0m\u001b[1;33m\u001b[0m\u001b[1;33m\u001b[0m\u001b[0m\n\u001b[0m",
      "\u001b[1;31mNameError\u001b[0m: name 'tup' is not defined"
     ]
    }
   ],
   "source": [
    "tup = ('IICT', 'AI Lab', 2000, 2001)\n",
    "print(tup)\n",
    "del(tup)\n",
    "print(\"After deleting tup : \")\n",
    "print(tup)"
   ]
  },
  {
   "cell_type": "markdown",
   "metadata": {
    "id": "sv2kQH4UjVP_"
   },
   "source": [
    "## Passing and Returning tuple from Functions"
   ]
  },
  {
   "cell_type": "code",
   "execution_count": null,
   "metadata": {
    "id": "CSX0_0jzjVP_",
    "outputId": "6ea60a85-8412-49b1-fa20-3a5355ab0862"
   },
   "outputs": [
    {
     "name": "stdout",
     "output_type": "stream",
     "text": [
      "(62.8318, 314.159)\n"
     ]
    }
   ],
   "source": [
    "def circleInfo(r):\n",
    "    \"\"\" Return (circumference, area) of a circle of radius r \"\"\"\n",
    "    c = 2 * 3.14159 * r\n",
    "    a = 3.14159 * r * r\n",
    "    return (c, a)\n",
    "\n",
    "print(circleInfo(10))"
   ]
  },
  {
   "cell_type": "code",
   "execution_count": null,
   "metadata": {
    "id": "ms3R7fszjVP_",
    "outputId": "ec1a489e-6ad5-4aa0-8700-2de17a462c26"
   },
   "outputs": [
    {
     "name": "stdout",
     "output_type": "stream",
     "text": [
      "(20, 40, 60)\n",
      "(30, 50, 70)\n"
     ]
    }
   ],
   "source": [
    "def times_ten(a, b = 0, c = 0):\n",
    "    if isinstance(a, tuple):\n",
    "        b = a[1]\n",
    "        c = a[2]\n",
    "        a = a[0]\n",
    "\n",
    "    return (a*10,b*10,c*10)\n",
    "\n",
    "t = (2,4,6)\n",
    "print(times_ten(t)) # prints \"(20, 40, 60)\"\n",
    "\n",
    "print(times_ten(3,5,7)) # prints \"(30, 50, 70)\""
   ]
  },
  {
   "cell_type": "markdown",
   "metadata": {
    "id": "Tgwoe9BCjVQA"
   },
   "source": [
    "# Exercise\n",
    "\n",
    "## Rainfall Statistics\n",
    "Design a program that lets the user enter the total rainfall for each of 12 months into a\n",
    "list. The program should calculate and display the total rainfall for the year, the average\n",
    "monthly rainfall, and the months with the highest and lowest amounts.\n",
    "\n",
    "## Driver’s License Exam\n",
    "The local driver’s license office has asked you to create an application that grades the written\n",
    "portion of the driver’s license exam. The exam has 20 multiple-choice questions. Here\n",
    "are the correct answers:\n",
    "\n",
    "|   |   |   |  |\n",
    "| ----- | ----- | ----- |-----|\n",
    "| 1. A | 6. B | 11. A | 16. C |\n",
    "| 2. A | 7. B | 12. A | 17. C |\n",
    "| 3. A | 8. B | 13. A | 18. C |\n",
    "| 4. A | 9. B | 14. A | 19. C |\n",
    "| 5. A | 10. B| 15. A | 20. C |\n",
    "\n",
    "Your program should store these correct answers in a list. The program should read the\n",
    "student’s answers for each of the 20 questions from a text file and store the answers in\n",
    "another list. (Create your own text file to test the application.) After the student’s answers\n",
    "have been read from the file, the program should display a message indicating whether the\n",
    "student passed or failed the exam. (A student must correctly answer 15 of the 20 questions\n",
    "to pass the exam.) It should then display the total number of correctly answered questions,\n",
    "the total number of incorrectly answered questions, and a list showing the question numbers\n",
    "of the incorrectly answered questions.\n",
    "\n",
    "## Name Search\n",
    "You are provided two dataset files:\n",
    "\n",
    "* **GirlNames.txt**—This file contains a list of the 200 most popular names given to girls born in the United States from the year 2000 through 2009.\n",
    "* **BoyNames.txt**—This file contains a list of the 200 most popular names given to boys born in the United States from the year 2000 through 2009. \n",
    "\n",
    "Write a program that reads the contents of the two files into two separate lists. The user\n",
    "should be able to enter a boy’s name, a girl’s name, or both, and the application will display\n",
    "messages indicating whether the names were among the most popular.\n",
    "\n",
    "## Population Data\n",
    "\n",
    "You are provided a dataset file named **USPopulation.txt**. The file contains the midyear\n",
    "population of the United States, in thousands, during the years 1950 through 1990. The\n",
    "first line in the file contains the population for 1950, the second line contains the population\n",
    "for 1951, and so forth.\n",
    "\n",
    "Write a program that reads the file’s contents into a list. The program should display the\n",
    "following data:\n",
    "\n",
    "* The average annual change in population during the time period\n",
    "* The year with the greatest increase in population during the time period\n",
    "* The year with the smallest increase in population during the time period\n",
    "\n",
    "## World Series Champions\n",
    "\n",
    "You are given a dataset file named **WorldSeriesWinners.txt**. This file contains a chronological\n",
    "list of the World Series winning teams from 1903 through 2009. (The first line in\n",
    "the file is the name of the team that won in 1903, and the last line is the name of the team\n",
    "that won in 2009. Note that the World Series was not played in 1904 or 1994.)\n",
    "Write a program that lets the user enter the name of a team and then displays the number\n",
    "of times that team has won the World Series in the time period from 1903 through 2009.\n",
    "\n",
    "## Lo Shu Magic Square\n",
    "\n",
    "The Lo Shu Magic Square is a grid with 3 rows and 3 columns. The\n",
    "Lo Shu Magic Square has the following properties:\n",
    "\n",
    "* The grid contains the numbers 1 through 9 exactly.\n",
    "* The sum of each row, each column, and each diagonal all add up to the same number.\n",
    "\n",
    "In a program you can simulate a magic square using a two-dimensional list. Write a function\n",
    "that accepts a two-dimensional list as an argument and determines whether the list is\n",
    "a Lo Shu Magic Square. Test the function in a program.\n",
    "\n",
    "![Fig:1 The Lo Shu Magic Square](Table1.png)\n",
    "![Fig:2 The sum of the rows, columns, and diagonals](Table2.png)\n",
    "\n"
   ]
  },
  {
   "cell_type": "code",
   "execution_count": null,
   "metadata": {
    "id": "0HOIVHCMjVQA"
   },
   "outputs": [],
   "source": []
  }
 ],
 "metadata": {
  "colab": {
   "collapsed_sections": [
    "QP-PdenOjVPS",
    "9nbk5p_zjVPe",
    "1FtIxO_vjVPg",
    "7X2J9bGCjVPh",
    "84JSXzL8jVPj",
    "_YSdTGx_jVPp",
    "l27iAWVAjVPq",
    "na2lvD4KjVPr",
    "XAE6fzK2jVPx",
    "QtKBHf9fjVPz",
    "7fUQKRIXjVPz",
    "aVU3MLpgjVP0",
    "9ZM-QRX8jVP1",
    "_aI4Qj4WjVP3",
    "cMXpzhXwjVP4",
    "tSAANEkNjVP5",
    "Z4eD-iHEjVP6",
    "9EeEmD7djVP8",
    "s4oq6TurjVP9",
    "gLphNrw6jVP9",
    "P8-LSI3njVP_",
    "sv2kQH4UjVP_"
   ],
   "name": "[4] Python List and Tuples.ipynb",
   "provenance": []
  },
  "kernelspec": {
   "display_name": "Python 3",
   "language": "python",
   "name": "python3"
  },
  "language_info": {
   "codemirror_mode": {
    "name": "ipython",
    "version": 3
   },
   "file_extension": ".py",
   "mimetype": "text/x-python",
   "name": "python",
   "nbconvert_exporter": "python",
   "pygments_lexer": "ipython3",
   "version": "3.8.8"
  }
 },
 "nbformat": 4,
 "nbformat_minor": 1
}
