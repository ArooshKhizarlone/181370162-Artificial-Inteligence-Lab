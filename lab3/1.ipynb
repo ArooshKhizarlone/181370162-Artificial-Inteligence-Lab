{
 "cells": [
  {
   "cell_type": "markdown",
   "id": "c1ada6b1",
   "metadata": {},
   "source": [
    "# 7.1 Sum of Digits in a String\n",
    "Write a program that asks the user to enter a series of single-digit numbers with nothing separating\n",
    "them. The program should display the sum of all the single digit numbers in the string. For\n",
    "example, if the user enters 2514, the method should return 12, which is the sum of 2, 5, 1, and 4."
   ]
  },
  {
   "cell_type": "code",
   "execution_count": 5,
   "id": "3d76e923",
   "metadata": {},
   "outputs": [
    {
     "name": "stdout",
     "output_type": "stream",
     "text": [
      "Enter a Number :5\n",
      "Sum of number is :  5\n"
     ]
    }
   ],
   "source": [
    "string_number = input(\"Enter a Number :\")\n",
    "Size = len(string_number)\n",
    "sum = 0\n",
    "for ch in range(Size):\n",
    "    sum += int(string_number[ch]);\n",
    "print(\"Sum of number is : \",sum);    "
   ]
  },
  {
   "cell_type": "code",
   "execution_count": null,
   "id": "cc430aae",
   "metadata": {},
   "outputs": [],
   "source": []
  }
 ],
 "metadata": {
  "kernelspec": {
   "display_name": "Python 3",
   "language": "python",
   "name": "python3"
  },
  "language_info": {
   "codemirror_mode": {
    "name": "ipython",
    "version": 3
   },
   "file_extension": ".py",
   "mimetype": "text/x-python",
   "name": "python",
   "nbconvert_exporter": "python",
   "pygments_lexer": "ipython3",
   "version": "3.8.8"
  }
 },
 "nbformat": 4,
 "nbformat_minor": 5
}
