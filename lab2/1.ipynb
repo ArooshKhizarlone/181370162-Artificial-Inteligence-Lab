{
 "cells": [
  {
   "cell_type": "markdown",
   "id": "c131de6e",
   "metadata": {},
   "source": [
    "# 7.1 Mass and Weight\n",
    "\n",
    "\n",
    "Scientists measure an object’s mass in kilograms and its weight in newtons. If you know the amount\n",
    "of mass of an object in kilograms, you can calculate its weight in newtons with the following formula:\n",
    "**\n",
    "weight = mass * 3 9.8\n",
    "** Write a program that asks the user to enter an object’s mass, and then calculates its weight. If\n",
    "the object weighs more than 500 newtons, display a message indicating that it is too heavy. If the\n",
    "object weighs less than 100 newtons, display a message indicating that it is too light."
   ]
  },
  {
   "cell_type": "code",
   "execution_count": 5,
   "id": "f8f7094b",
   "metadata": {},
   "outputs": [
    {
     "name": "stdout",
     "output_type": "stream",
     "text": [
      "Enter Mass of Object = 02\n",
      "weight of object =  79.6\n",
      "It is light =  79.6\n",
      "Otherwise weight is  =  79.6\n"
     ]
    }
   ],
   "source": [
    "mass = float(input(\"Enter Mass of Object = \"))\n",
    "weight = mass * 39.8\n",
    "print(\"weight of object = \" , weight)\n",
    "\n",
    "if weight < 100:\n",
    "    print(\"It is light = \" , weight )\n",
    "\n",
    "if weight > 500:\n",
    "    print(\"Heavy  = \" , weight )\n",
    "        \n",
    "else:\n",
    "    print(\"Otherwise weight is  = \" , weight )\n",
    "    \n",
    "    \n"
   ]
  },
  {
   "cell_type": "code",
   "execution_count": null,
   "id": "1758b7ae",
   "metadata": {},
   "outputs": [],
   "source": []
  },
  {
   "cell_type": "code",
   "execution_count": null,
   "id": "da183fe1",
   "metadata": {},
   "outputs": [],
   "source": []
  }
 ],
 "metadata": {
  "kernelspec": {
   "display_name": "Python 3",
   "language": "python",
   "name": "python3"
  }
 },
 "nbformat": 4,
 "nbformat_minor": 5
}
