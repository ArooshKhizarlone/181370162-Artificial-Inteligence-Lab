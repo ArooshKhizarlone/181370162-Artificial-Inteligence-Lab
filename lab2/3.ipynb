{
 "cells": [
  {
   "cell_type": "markdown",
   "id": "6886a907",
   "metadata": {},
   "source": [
    "# 7.3 Miles Per Gallon\n",
    "\n",
    "\n",
    "Drivers are concerned with the mileage obtained by their automobiles. One driver has kept track\n",
    "of several tankfuls of gasoline by recording miles driven and gallons used for each tankful. Develop\n",
    "a sentinel-controlled-repetition script that prompts the user to input the miles driven and gallons\n",
    "used for each tankful. The script should calculate and display the miles per gallon obtained for\n",
    "each tankful. After processing all input information, the script should calculate and display the\n",
    "combined miles per gallon obtained for all tankfuls (that is, total miles driven divided by total\n",
    "gallons used).\n",
    "• Enter the gallons used (-1 to end): 12.8\n",
    "• Enter the miles driven: 287\n",
    "• The miles/gallon for this tank was 22.421875\n",
    "• Enter the gallons used (-1 to end): 10.3\n",
    "• Enter the miles driven: 200\n",
    "• The miles/gallon for this tank was 19.417475\n",
    "• Enter the gallons used (-1 to end): 5\n",
    "16\n",
    "\n",
    "• Enter the miles driven: 120\n",
    "• The miles/gallon for this tank was 24.000000\n",
    "• Enter the gallons used (-1 to end): -1\n",
    "• The overall average miles/gallon was 21.601423"
   ]
  },
  {
   "cell_type": "code",
   "execution_count": null,
   "id": "ce1af726",
   "metadata": {},
   "outputs": [
    {
     "name": "stdout",
     "output_type": "stream",
     "text": [
      "Enter the gallon used (-1 to end) : 25\n",
      "Enter the miles : 20\n",
      "0.8\n"
     ]
    }
   ],
   "source": [
    "x = 0;\n",
    "y = 0;\n",
    "#range\n",
    "for i in range(10):\n",
    "    noofgallon = float(input(\"Enter the gallon used (-1 to end) : \"));\n",
    "   \n",
    "    if(noofgallon != -1):\n",
    "        Mile = float(input(\"Enter the miles : \"))\n",
    "        overall_miles = Mile / noofgallon;\n",
    "        c = overall_miles\n",
    "        print(c)\n",
    "        y+= 1;\n",
    "        \n",
    "    elif(noofgallon == -1):\n",
    "        print(\"The overall average miles/gallon was : \")\n",
    "        d = x / y\n",
    "        print(d)\n",
    "        break;"
   ]
  },
  {
   "cell_type": "code",
   "execution_count": null,
   "id": "6608f954",
   "metadata": {},
   "outputs": [],
   "source": []
  },
  {
   "cell_type": "code",
   "execution_count": null,
   "id": "1404bb9d",
   "metadata": {},
   "outputs": [],
   "source": []
  }
 ],
 "metadata": {
  "kernelspec": {
   "display_name": "Python 3",
   "language": "python",
   "name": "python3"
  },
  "language_info": {
   "codemirror_mode": {
    "name": "ipython",
    "version": 3
   },
   "file_extension": ".py",
   "mimetype": "text/x-python",
   "name": "python",
   "nbconvert_exporter": "python",
   "pygments_lexer": "ipython3",
   "version": "3.8.8"
  }
 },
 "nbformat": 4,
 "nbformat_minor": 5
}
