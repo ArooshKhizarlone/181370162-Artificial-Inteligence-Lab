{
 "cells": [
  {
   "cell_type": "code",
   "execution_count": null,
   "id": "c559bc05",
   "metadata": {},
   "outputs": [],
   "source": [
    "The Fast Freight Shipping Company charges the following rates:\n",
    "\n",
    "Weight of Package Rate per Pound (Dollar)\n",
    "2 pounds or less 1.50\n",
    "Over 2 pounds but not more than 6 pounds 3.00\n",
    "Over 6 pounds but not more than 10 pounds 4.00\n",
    "Over 10 pounds 4.75\n",
    "\n",
    "Write a program that asks the user to enter the weight of a package and then displays the shipping\n",
    "charges."
   ]
  },
  {
   "cell_type": "code",
   "execution_count": 3,
   "id": "659a57aa",
   "metadata": {},
   "outputs": [
    {
     "name": "stdout",
     "output_type": "stream",
     "text": [
      "Enter weight of pkg : 10\n",
      "10\n",
      "47.5\n"
     ]
    }
   ],
   "source": [
    "weight = int(input(\"Enter weight of pkg : \"))\n",
    "print(weight)\n",
    "\n",
    "if weight <= 2:\n",
    "    x = weight * 1.50 \n",
    "    \n",
    "    print(x)\n",
    "elif(weight > 2 and weight < 6):\n",
    "    y = weight * 3.00\n",
    "    \n",
    "    print(y)\n",
    "elif(weight >= 6 and weight < 10):\n",
    "    z = weight * 4.00\n",
    "    \n",
    "    print(z)\n",
    "elif weight <= 10:\n",
    "    a = weight * 4.75\n",
    "   \n",
    "    print(a)    "
   ]
  },
  {
   "cell_type": "code",
   "execution_count": null,
   "id": "0f8e4a91",
   "metadata": {},
   "outputs": [],
   "source": []
  }
 ],
 "metadata": {
  "kernelspec": {
   "display_name": "Python 3",
   "language": "python",
   "name": "python3"
  },
  "language_info": {
   "codemirror_mode": {
    "name": "ipython",
    "version": 3
   },
   "file_extension": ".py",
   "mimetype": "text/x-python",
   "name": "python",
   "nbconvert_exporter": "python",
   "pygments_lexer": "ipython3",
   "version": "3.8.8"
  }
 },
 "nbformat": 4,
 "nbformat_minor": 5
}
