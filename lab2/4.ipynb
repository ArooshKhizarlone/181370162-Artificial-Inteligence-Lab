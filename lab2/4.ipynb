{
 "cells": [
  {
   "cell_type": "code",
   "execution_count": null,
   "id": "be3e6c2a",
   "metadata": {},
   "outputs": [],
   "source": [
    "A software company sells a package that retails for $99. Quantity discounts are given according to\n",
    "the following table:\n",
    "\n",
    "Quantity Discount\n",
    "10–19 10%\n",
    "20–49 20%\n",
    "50–99 30%\n",
    "100 or more 40%\n",
    "\n",
    "Write a program that asks the user to enter the number of packages purchased. The program\n",
    "should then display the amount of the discount (if any) and the total amount of the purchase after\n",
    "the discount."
   ]
  },
  {
   "cell_type": "code",
   "execution_count": 6,
   "id": "54e1031b",
   "metadata": {},
   "outputs": [
    {
     "name": "stdout",
     "output_type": "stream",
     "text": [
      "Enter the num of package : 16\n",
      "16\n",
      "14256.0\n"
     ]
    }
   ],
   "source": [
    "package = int(input(\"Enter the num of package : \"))\n",
    "print(package)\n",
    "\n",
    "if(package > 10 and package < 19):\n",
    "    p = package * 99\n",
    "    p1 = (p * 100 /10) - p\n",
    "    print(p1)\n",
    "elif(package > 20 and package < 49):\n",
    "    p2 = package * 99\n",
    "    p3 = (3 * 100 /20) - 2\n",
    "    print(p1)\n",
    "elif(package > 50 and package < 99):\n",
    "    p4 = package * 99\n",
    "    p5 = (p4 * 100 /30) - p4\n",
    "    print(p5)\n",
    "elif(package > 100 and package < 200):\n",
    "    p6 = package * 99\n",
    "    p7 = (p6 * 100 /40) - p6\n",
    "    print(p7)    \n",
    "    "
   ]
  },
  {
   "cell_type": "code",
   "execution_count": null,
   "id": "8f85a883",
   "metadata": {},
   "outputs": [],
   "source": []
  }
 ],
 "metadata": {
  "kernelspec": {
   "display_name": "Python 3",
   "language": "python",
   "name": "python3"
  },
  "language_info": {
   "codemirror_mode": {
    "name": "ipython",
    "version": 3
   },
   "file_extension": ".py",
   "mimetype": "text/x-python",
   "name": "python",
   "nbconvert_exporter": "python",
   "pygments_lexer": "ipython3",
   "version": "3.8.8"
  }
 },
 "nbformat": 4,
 "nbformat_minor": 5
}
